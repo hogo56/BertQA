{
  "nbformat": 4,
  "nbformat_minor": 0,
  "metadata": {
    "colab": {
      "name": "BERT for Humans Baseline.ipynb",
      "provenance": [],
      "collapsed_sections": [],
      "include_colab_link": true
    },
    "kernelspec": {
      "name": "python3",
      "display_name": "Python 3"
    },
    "accelerator": "GPU"
  },
  "cells": [
    {
      "cell_type": "markdown",
      "metadata": {
        "id": "view-in-github",
        "colab_type": "text"
      },
      "source": [
        "<a href=\"https://colab.research.google.com/github/hogo56/BertQA/blob/master/BERT_for_Humans_Baseline.ipynb\" target=\"_parent\"><img src=\"https://colab.research.google.com/assets/colab-badge.svg\" alt=\"Open In Colab\"/></a>"
      ]
    },
    {
      "cell_type": "markdown",
      "metadata": {
        "id": "MNzAuLZDzG_R",
        "colab_type": "text"
      },
      "source": [
        "# ================== Machine Spinup =================="
      ]
    },
    {
      "cell_type": "markdown",
      "metadata": {
        "id": "M0k60Je4YEQa",
        "colab_type": "text"
      },
      "source": [
        "## -- Main System Config --\n",
        "<Details><Summary>Global Config</Summary>\n",
        "Put any global system configuration here"
      ]
    },
    {
      "cell_type": "code",
      "metadata": {
        "id": "JNKoTizrh9RG",
        "colab_type": "code",
        "colab": {}
      },
      "source": [
        "import os, sys\n",
        "## Setup directory structure\n",
        "! mkdir /content/lib\n",
        "! mkdir -p /content/data\n",
        "! mkdir -p /content/output       # Maybe symlink to Google Drive for permenance\n",
        "! rm -rf /content/sample_data\n",
        "sys.path.append('/content/lib')\n",
        "\n",
        "! apt-get install vim > /dev/null"
      ],
      "execution_count": 0,
      "outputs": []
    },
    {
      "cell_type": "code",
      "metadata": {
        "id": "v-5P0vP3PlaX",
        "colab_type": "code",
        "outputId": "c9b8d5fb-7d34-435b-e75b-c7a0222c8097",
        "colab": {
          "base_uri": "https://localhost:8080/",
          "height": 116
        }
      },
      "source": [
        "! pwd\n",
        "! ls -l"
      ],
      "execution_count": 2,
      "outputs": [
        {
          "output_type": "stream",
          "text": [
            "/content\n",
            "total 16\n",
            "drwxr-xr-x 2 root root 4096 Dec 15 10:14 data\n",
            "drwxr-xr-x 2 root root 4096 Dec 15 10:14 lib\n",
            "drwxr-xr-x 2 root root 4096 Dec 15 10:14 output\n",
            "drwxr-xr-x 1 root root 4096 Dec 12 16:48 sample_data\n"
          ],
          "name": "stdout"
        }
      ]
    },
    {
      "cell_type": "markdown",
      "metadata": {
        "id": "y2gZhc0L_lbv",
        "colab_type": "text"
      },
      "source": [
        "Global Variables"
      ]
    },
    {
      "cell_type": "code",
      "metadata": {
        "id": "LUNHLv0j_Muf",
        "colab_type": "code",
        "colab": {}
      },
      "source": [
        "KAGGLE_COMPETITION_NAME='tensorflow2-question-answering'\n",
        "GDRIVE_ROOT='/content/gdrive'\n",
        "RESULTS='/content/output'\n",
        "RESULT_CSV='/content/output/submission.csv'\n",
        "\n",
        "KAGGLE_CLI_COLAB_DATA='/content/.kaggle/competitions'\n",
        "KAGGLE_CLI_COLAB_ROOT='/content/.kaggle'\n",
        "\n",
        "IS_MAX_SCORE_SUBMISSION = True # create submission.csv of maximum result\n",
        "FINAL = False # indicate the predication using trained models is saved to CSV"
      ],
      "execution_count": 0,
      "outputs": []
    },
    {
      "cell_type": "markdown",
      "metadata": {
        "id": "88YILsdhCzqR",
        "colab_type": "text"
      },
      "source": [
        "### Runtime Parameters\n",
        "EnableAllCode - There are code blocks here that should not be run with \"Run All\". By default EnableAllCode will set to False and those blocks will be excluded. If you want to run them individually for some reason set EnableAllCode True.<p>\n",
        "DownloadBigFiles - There are GBs of files and downloads to make this run. If you are just wanting to spin up the Colab so you can SSH into it set DownloadBigFiles = False then Runtime -> RunAfter"
      ]
    },
    {
      "cell_type": "code",
      "metadata": {
        "id": "uw9zV9bwScZe",
        "colab_type": "code",
        "colab": {}
      },
      "source": [
        "EnableAllCode = True"
      ],
      "execution_count": 0,
      "outputs": []
    },
    {
      "cell_type": "code",
      "metadata": {
        "id": "N1OMFCqATMSX",
        "colab_type": "code",
        "colab": {}
      },
      "source": [
        "EnableAllCode = False"
      ],
      "execution_count": 0,
      "outputs": []
    },
    {
      "cell_type": "code",
      "metadata": {
        "id": "BYv6ZKgbEE4w",
        "colab_type": "code",
        "colab": {}
      },
      "source": [
        "DownloadBigFiles = True"
      ],
      "execution_count": 0,
      "outputs": []
    },
    {
      "cell_type": "code",
      "metadata": {
        "id": "Aw7EKdk1D_UZ",
        "colab_type": "code",
        "colab": {}
      },
      "source": [
        "DownloadBigFiles = False"
      ],
      "execution_count": 0,
      "outputs": []
    },
    {
      "cell_type": "markdown",
      "metadata": {
        "id": "aheaRzVE6fs1",
        "colab_type": "text"
      },
      "source": [
        "## -- Setup --"
      ]
    },
    {
      "cell_type": "markdown",
      "metadata": {
        "id": "gixU6_gv678n",
        "colab_type": "text"
      },
      "source": [
        "###Google Drive\n",
        "<Details>There are several ways to provide access to your Google Drive from Colab. (What about the Drive FUSE wrapper?)<br>\n",
        "I am not sure if this is the best. This mounts your Drive into the machine.<br>\n",
        "I expect there will be a folder in the Drive that we all share.</Details>"
      ]
    },
    {
      "cell_type": "code",
      "metadata": {
        "id": "auXx45x70Qcs",
        "colab_type": "code",
        "outputId": "ebc1278f-f9cb-4b30-b69f-7f3a3143eed6",
        "colab": {
          "base_uri": "https://localhost:8080/",
          "height": 120
        }
      },
      "source": [
        "## File link to Google Drive\n",
        "from google.colab import drive\n",
        "drive.mount('/content/gdrive', force_remount=False)   # true to reread drive\n",
        "# Create a shorter shared directory name than one with a space\n",
        "! ln -s '/content/gdrive/My Drive/bertqa' /content/bertqa"
      ],
      "execution_count": 8,
      "outputs": [
        {
          "output_type": "stream",
          "text": [
            "Go to this URL in a browser: https://accounts.google.com/o/oauth2/auth?client_id=947318989803-6bn6qk8qdgf4n4g3pfee6491hc0brc4i.apps.googleusercontent.com&redirect_uri=urn%3aietf%3awg%3aoauth%3a2.0%3aoob&response_type=code&scope=email%20https%3a%2f%2fwww.googleapis.com%2fauth%2fdocs.test%20https%3a%2f%2fwww.googleapis.com%2fauth%2fdrive%20https%3a%2f%2fwww.googleapis.com%2fauth%2fdrive.photos.readonly%20https%3a%2f%2fwww.googleapis.com%2fauth%2fpeopleapi.readonly\n",
            "\n",
            "Enter your authorization code:\n",
            "··········\n",
            "Mounted at /content/gdrive\n"
          ],
          "name": "stdout"
        }
      ]
    },
    {
      "cell_type": "code",
      "metadata": {
        "id": "Ga-sQOkk1YvA",
        "colab_type": "code",
        "colab": {}
      },
      "source": [
        "if EnableAllCode:\n",
        "    ## Flush and unmount Google Drive\n",
        "    # You probablyu won't do this but if you want to at some point click the play button\n",
        "    drive.flush_and_unmount()"
      ],
      "execution_count": 0,
      "outputs": []
    },
    {
      "cell_type": "markdown",
      "metadata": {
        "colab_type": "text",
        "id": "YfDRXH9NYmi3"
      },
      "source": [
        "### SSH Setup\n",
        "<Details> Shell access is not technically required but if you are like me and being able to look under the hood brings you comfort you can step throuth this.<br>\n",
        "Thanks to Imad El Hanafi (https://imadelhanafi.com) for showing me how to do this.<p>\n",
        "I think you will need to create a free account at https://ngrok.com/ for the SSH tunnel to work.</Details>"
      ]
    },
    {
      "cell_type": "code",
      "metadata": {
        "id": "9eXiaG8E9jqP",
        "colab_type": "code",
        "outputId": "8384a5c0-fe8c-4885-cbe1-142f4e80d457",
        "colab": {
          "base_uri": "https://localhost:8080/",
          "height": 216
        }
      },
      "source": [
        "## Install sshd\n",
        "! apt-get install -o=Dpkg::Use-Pty=0 openssh-server pwgen > /dev/null\n",
        "\n",
        "! mkdir -p /var/run/sshd\n",
        "! echo \"PermitRootLogin yes\" >> /etc/ssh/sshd_config\n",
        "! echo \"PasswordAuthentication yes\" >> /etc/ssh/sshd_config\n",
        "# set host key to known value\n",
        "! cp \"/content/bertqa/colab/ssh_host_rsa_key.pub\" /etc/ssh/\n",
        "# this script will give fix the shell so Python will work\n",
        "! echo \"source /content/bertqa/colab/init_shell.sh\" >> /root/.bashrc"
      ],
      "execution_count": 10,
      "outputs": [
        {
          "output_type": "stream",
          "text": [
            "\n",
            "Creating config file /etc/ssh/sshd_config with new version\n",
            "Creating SSH2 RSA key; this may take some time ...\n",
            "2048 SHA256:OZ3CbePIQXSvNvqjfmIImTgnPpp7MckAVcazlMDoJT4 root@52e1f7ad9b56 (RSA)\n",
            "Creating SSH2 ECDSA key; this may take some time ...\n",
            "256 SHA256:ADppI65tjQuYjvIWL4yt96mPnZdoNvf/oX/dhBp4IaI root@52e1f7ad9b56 (ECDSA)\n",
            "Creating SSH2 ED25519 key; this may take some time ...\n",
            "256 SHA256:X2k8NCPe1Gvec/zT40irONg7qS0K/1Uv1M/Z0SHBYrU root@52e1f7ad9b56 (ED25519)\n",
            "Created symlink /etc/systemd/system/sshd.service → /lib/systemd/system/ssh.service.\n",
            "Created symlink /etc/systemd/system/multi-user.target.wants/ssh.service → /lib/systemd/system/ssh.service.\n",
            "invoke-rc.d: could not determine current runlevel\n",
            "invoke-rc.d: policy-rc.d denied execution of start.\n"
          ],
          "name": "stdout"
        }
      ]
    },
    {
      "cell_type": "code",
      "metadata": {
        "colab_type": "code",
        "id": "zypzu9GdYmjH",
        "colab": {}
      },
      "source": [
        "## 1 - setup ssh/user \n",
        "\n",
        "#Generate a random root password\n",
        "import random, string\n",
        "sshpass = ''.join(random.choice(string.ascii_letters + string.digits) for i in range(30))\n",
        "\n",
        "#Set root password\n",
        "! echo root:$sshpass | chpasswd\n",
        "\n",
        "#Run sshd\n",
        "get_ipython().system_raw('/usr/sbin/sshd -D &')"
      ],
      "execution_count": 0,
      "outputs": []
    },
    {
      "cell_type": "code",
      "metadata": {
        "colab_type": "code",
        "id": "wMqEbK_gYmjP",
        "colab": {}
      },
      "source": [
        "## 2 - Download Ngrok\n",
        "! wget -q -c -nc https://bin.equinox.io/c/4VmDzA7iaHb/ngrok-stable-linux-amd64.zip\n",
        "! unzip -qq -n ngrok-stable-linux-amd64.zip\n",
        "! rm ngrok-stable-linux-amd64.zip"
      ],
      "execution_count": 0,
      "outputs": []
    },
    {
      "cell_type": "code",
      "metadata": {
        "colab_type": "code",
        "id": "T3qqUMr8YmjX",
        "outputId": "8d76816e-124d-42bb-919e-7eb22b3408e4",
        "colab": {
          "base_uri": "https://localhost:8080/",
          "height": 50
        }
      },
      "source": [
        "## 3 - setup Ngrok - authtoken\n",
        "\n",
        "# Get token from ngrok for the tunnel\n",
        "print(\"Get your authtoken from https://dashboard.ngrok.com/auth\")\n",
        "import getpass\n",
        "authtoken = getpass.getpass()\n",
        "\n",
        "#Create tunnel\n",
        "get_ipython().system_raw('./ngrok authtoken $authtoken && ./ngrok tcp 22 &')"
      ],
      "execution_count": 13,
      "outputs": [
        {
          "output_type": "stream",
          "text": [
            "Get your authtoken from https://dashboard.ngrok.com/auth\n",
            "··········\n"
          ],
          "name": "stdout"
        }
      ]
    },
    {
      "cell_type": "markdown",
      "metadata": {
        "id": "StUmD_BrVy6P",
        "colab_type": "text"
      },
      "source": [
        "#### ==============================<br>|====&nbsp;&nbsp;  SSH Login Credentials &nbsp;&nbsp;====||<br>=============================="
      ]
    },
    {
      "cell_type": "code",
      "metadata": {
        "id": "yYWYwYfwVKVP",
        "colab_type": "code",
        "colab": {
          "base_uri": "https://localhost:8080/",
          "height": 50
        },
        "cellView": "both",
        "outputId": "c21a41f8-b2cd-4bf4-9039-f36a4b6312d4"
      },
      "source": [
        "#@title\n",
        "print(\"username: root\")\n",
        "print(\"password: \", sshpass)"
      ],
      "execution_count": 14,
      "outputs": [
        {
          "output_type": "stream",
          "text": [
            "username: root\n",
            "password:  GhpMppovpqDWQTwyyFwAjuuBZWqkz3\n"
          ],
          "name": "stdout"
        }
      ]
    },
    {
      "cell_type": "markdown",
      "metadata": {
        "colab_type": "text",
        "id": "9I6mIU8nYmjb"
      },
      "source": [
        "Get the host name and port number at: https://dashboard.ngrok.com/status\n",
        "\n",
        "```bash\n",
        "ssh root@0.tcp.ngrok.io -p [ngrok_port]\n",
        "Login as: root\n",
        "Servrer refused our key\n",
        "root@0.tcp.ngrok.io's password: [see above]\n",
        "\n",
        "(Colab):/content$\n",
        "```\n"
      ]
    },
    {
      "cell_type": "code",
      "metadata": {
        "colab_type": "code",
        "id": "_gkQz2BDYmjb",
        "colab": {}
      },
      "source": [
        "if EnableAllCode:\n",
        "    # If you need you can kill Ngrok\n",
        "    !kill $(ps aux | grep './ngrok' | awk '{print $2}')"
      ],
      "execution_count": 0,
      "outputs": []
    },
    {
      "cell_type": "markdown",
      "metadata": {
        "id": "Q8BLJAW95ih-",
        "colab_type": "text"
      },
      "source": [
        "### Kaggle API\n",
        "<Details>You will need a token to link the Colab instance to the API of your Kaggle account to get data, etc.<br>\n",
        "Go to: https://www.kaggle.com/yourID/account and click on the \"Create New API Token: button to get a file named kaggle.json and save it somewhere on your local drive.</Details>\n",
        "<Details><Summary>More...</Summary>I am choosing to upload the kaggle.json file from local hard drive each time. Alternately, we could put it in a private location on your gdrive (not the shared folder.)<br>\n",
        "To use Drive the location in the environ would be like /content/gdrive/kaggle/</Details>"
      ]
    },
    {
      "cell_type": "code",
      "metadata": {
        "id": "lc3IYPUg17c8",
        "colab_type": "code",
        "outputId": "1b8a8383-f54c-458c-cffb-74a1e86f8e85",
        "colab": {
          "base_uri": "https://localhost:8080/",
          "height": 33
        }
      },
      "source": [
        "## Link to Kaggle\n",
        "from google.colab import files\n",
        "\n",
        "# see if there is a kaggle.json file in gdrive\n",
        "try:\n",
        "    # see if auth file is in gdrive\n",
        "    f = open(\"/content/gdrive/My Drive/colab/kaggle.json\")\n",
        "    ! chmod 600 \"/content/gdrive/My Drive/colab/kaggle.json\"      # file is likely already 600\n",
        "    os.environ['KAGGLE_CONFIG_DIR'] = \"/content/gdrive/My Drive/colab/\"\n",
        "    ! ls -l \"/content/gdrive/My Drive/colab/kaggle.json\"\n",
        "except IOError:\n",
        "    # Have user upload file\n",
        "    ! rm /content/kaggle.json  2> /dev/null\n",
        "    print('Upload kaggle.json.')\n",
        "    # The files.upload() command is failing sporatically with:\n",
        "    #   TypeError: Cannot read property '_uploadFiles' of undefined (just run again)\n",
        "    files.upload()\n",
        "    ! chmod 600 /content/kaggle.json\n",
        "    os.environ['KAGGLE_CONFIG_DIR'] = \"/content/\"\n",
        "    ! ls -l /content/kaggle.json\n",
        "\n",
        "import kaggle"
      ],
      "execution_count": 16,
      "outputs": [
        {
          "output_type": "stream",
          "text": [
            "-rw------- 1 root root 66 Dec 15 08:31 '/content/gdrive/My Drive/colab/kaggle.json'\n"
          ],
          "name": "stdout"
        }
      ]
    },
    {
      "cell_type": "code",
      "metadata": {
        "id": "F18Sq3F35xtR",
        "colab_type": "code",
        "colab": {}
      },
      "source": [
        "## Fix Nvidia            (make sure your Runtime type is python3 + GPU)\n",
        "\n",
        "\"\"\" ToDo - Get Latest Nvidia Drivers \"\"\"\n",
        "if EnableAllCode:   # (this is just disabled because the code is not tested)\n",
        "    # https://developer.nvidia.com/cudnn       (need to join developer program to get latest)\n",
        "\n",
        "    # Extracts the cuDNN files from Drive folder directly to the VM CUDA folders\n",
        "    !tar -xzvf bertqa/nvidia/cuDNN/cudnn-10.0-linux-x64-v7.5.0.56.tgz -C /usr/local/\n",
        "    !chmod a+r /usr/local/cuda/include/cudnn.h\n",
        "\n",
        "    # Now we check the version we already installed. Can comment this line on future runs\n",
        "    !cat /usr/local/cuda/include/cudnn.h | grep CUDNN_MAJOR -A 2\n"
      ],
      "execution_count": 0,
      "outputs": []
    },
    {
      "cell_type": "markdown",
      "metadata": {
        "id": "O3P2JEVG3Zx7",
        "colab_type": "text"
      },
      "source": [
        "## -- Stop Execution Here --"
      ]
    },
    {
      "cell_type": "code",
      "metadata": {
        "id": "eoljj40aIiAc",
        "colab_type": "code",
        "colab": {
          "base_uri": "https://localhost:8080/",
          "height": 261
        },
        "outputId": "2c415257-4d3c-46e4-b3fc-159c2c4ed41c"
      },
      "source": [
        "## Stop Run All Execution here\n",
        "# This is a really ugly way to get the Notebook to stop, any better ideas???\n",
        "\n",
        "print()\n",
        "print(\"### Stopping Notebook execution ###\")\n",
        "print(\"To continue Notebook put cursor on next cell and Runtime -> Run After\")\n",
        "print()\n",
        "assert False"
      ],
      "execution_count": 18,
      "outputs": [
        {
          "output_type": "stream",
          "text": [
            "\n",
            "### Stopping Notebook execution ###\n",
            "To continue Notebook put cursor on next cell and Runtime -> Run After\n",
            "\n"
          ],
          "name": "stdout"
        },
        {
          "output_type": "error",
          "ename": "AssertionError",
          "evalue": "ignored",
          "traceback": [
            "\u001b[0;31m---------------------------------------------------------------------------\u001b[0m",
            "\u001b[0;31mAssertionError\u001b[0m                            Traceback (most recent call last)",
            "\u001b[0;32m<ipython-input-18-39f1c9cdf36f>\u001b[0m in \u001b[0;36m<module>\u001b[0;34m()\u001b[0m\n\u001b[1;32m      4\u001b[0m \u001b[0mprint\u001b[0m\u001b[0;34m(\u001b[0m\u001b[0;34m\"To continue Notebook put cursor on next cell and Runtime -> Run After\"\u001b[0m\u001b[0;34m)\u001b[0m\u001b[0;34m\u001b[0m\u001b[0;34m\u001b[0m\u001b[0m\n\u001b[1;32m      5\u001b[0m \u001b[0mprint\u001b[0m\u001b[0;34m(\u001b[0m\u001b[0;34m)\u001b[0m\u001b[0;34m\u001b[0m\u001b[0;34m\u001b[0m\u001b[0m\n\u001b[0;32m----> 6\u001b[0;31m \u001b[0;32massert\u001b[0m \u001b[0;32mFalse\u001b[0m\u001b[0;34m\u001b[0m\u001b[0;34m\u001b[0m\u001b[0m\n\u001b[0m",
            "\u001b[0;31mAssertionError\u001b[0m: "
          ]
        }
      ]
    },
    {
      "cell_type": "markdown",
      "metadata": {
        "id": "Q6zf1MNKGefD",
        "colab_type": "text"
      },
      "source": [
        "## -- Explore Environment --\n"
      ]
    },
    {
      "cell_type": "code",
      "metadata": {
        "id": "nzX2trD0GY5-",
        "colab_type": "code",
        "colab": {}
      },
      "source": [
        "if EnableAllCode:\n",
        "    print('===== Python =====')\n",
        "    print('Version: ', sys.version)\n",
        "    ! pip -V\n",
        "    print('===== CPU Info =====')\n",
        "    !cat /proc/cpuinfo\n",
        "    print('\\n===== MEM Info =====')\n",
        "    !cat /proc/meminfo\n",
        "    print('\\n===== printenv =====')\n",
        "    ! printenv\n",
        "    from tensorflow.python.client import device_lib\n",
        "    print('\\n===== List Local Devices =====')\n",
        "    print(device_lib.list_local_devices())\n",
        "    print()\n",
        "    print(\"===== Dir of /:\", *(os.listdir('/')), sep='\\n')\n",
        "    print(\"\\n===== cwd: \", os.getcwd())                       # will be /content\n",
        "    print('\\n===== Files in', os.getcwd())\n",
        "    for dirname, _, filenames in os.walk(os.getcwd()):\n",
        "        for filename in filenames:\n",
        "            print(os.path.join(dirname, filename))"
      ],
      "execution_count": 0,
      "outputs": []
    },
    {
      "cell_type": "code",
      "metadata": {
        "id": "rEo292sNysZ2",
        "colab_type": "code",
        "colab": {}
      },
      "source": [
        "if EnableAllCode:\n",
        "    print('\\n===== NVIDIA Info =====')\n",
        "    !nvidia-smi\n",
        "    print()\n",
        "    !/usr/local/cuda/bin/nvcc --version"
      ],
      "execution_count": 0,
      "outputs": []
    },
    {
      "cell_type": "markdown",
      "metadata": {
        "id": "VTGd9wM7VxHz",
        "colab_type": "text"
      },
      "source": [
        "## -- Misc Notes --"
      ]
    },
    {
      "cell_type": "markdown",
      "metadata": {
        "id": "nZzPMe0vWHdP",
        "colab_type": "text"
      },
      "source": [
        "### File Transfer to Local Machine"
      ]
    },
    {
      "cell_type": "code",
      "metadata": {
        "id": "G4_3T1hiV_BI",
        "colab_type": "code",
        "colab": {}
      },
      "source": [
        "# ## To upload files to Colab\n",
        "# from google.colab import files\n",
        "# uploaded = files.upload()\n",
        "# print(uploaded)"
      ],
      "execution_count": 0,
      "outputs": []
    },
    {
      "cell_type": "code",
      "metadata": {
        "id": "e_ucQLj9V3kr",
        "colab_type": "code",
        "colab": {}
      },
      "source": [
        "# ## To download files from Colab\n",
        "# from google.colab import files\n",
        "# model.save('trained_model.h5')          # but probably better to save directly to Drive\n",
        "# files.download('trained_model.h5')"
      ],
      "execution_count": 0,
      "outputs": []
    },
    {
      "cell_type": "markdown",
      "metadata": {
        "id": "XBAZEpofWU1J",
        "colab_type": "text"
      },
      "source": [
        "### File Transfer from Web"
      ]
    },
    {
      "cell_type": "code",
      "metadata": {
        "id": "kOzigjWWWYYn",
        "colab_type": "code",
        "colab": {}
      },
      "source": [
        "# from urllib.request import urlretrieve\n",
        "\n",
        "# def download(url, file):\n",
        "#     if not os.path.isfile(file):\n",
        "#         print(\"Downloading file... \" + file + \" ...\")\n",
        "#         urlretrieve(url,file)\n",
        "#         print(\"File downloaded\")\n",
        "\n",
        "# download('Url of the file','Name of the file to be saved')\n",
        "# print(\"All the files are downloaded\")\n",
        "# #If the downloaded file is a zip file than you can use below function to unzip it.\n",
        "# def uncompress_features_labels(file):\n",
        "#     if(os.path.isdir('data')):\n",
        "#         print('Data extracted')\n",
        "#     else:\n",
        "#         with ZipFile(dir) as zipf:\n",
        "#             zipf.extractall('data')"
      ],
      "execution_count": 0,
      "outputs": []
    },
    {
      "cell_type": "markdown",
      "metadata": {
        "id": "rzADEFEdzHor",
        "colab_type": "text"
      },
      "source": [
        "### Prevent Disconnects\n",
        "Colab periodically disconnects the browser.<br>\n",
        "You have to save model checkpoints to Google Drive so you don't lose wor<br>\n",
        "See: https://mc.ai/google-colab-drive-as-persistent-storage-for-long-training-runs/<br>\n",
        "Something to try...<br>\n",
        "Ctrl+Shift+i in browser and in console run this code...\n",
        "```\n",
        "function KeepAlive(){\n",
        "    console.log(\"Maintaining Connection\");\n",
        "    document.querySelector(\"colab-toolbar-button#connect\").click()\n",
        "}\n",
        "setInterval(KeepAlive,60000);\n",
        "```\n",
        "There have been reports of people having their GPU privileges suspended for letting processes run for over 12 hours. It seems that they may penalize you rather than just cutting you off."
      ]
    },
    {
      "cell_type": "markdown",
      "metadata": {
        "id": "javRwDS6zhOC",
        "colab_type": "text"
      },
      "source": [
        "# ================== Project Specific Stuff =================="
      ]
    },
    {
      "cell_type": "markdown",
      "metadata": {
        "colab_type": "text",
        "id": "JFQgZRN2PaEE"
      },
      "source": [
        "## -- Project Setup --"
      ]
    },
    {
      "cell_type": "markdown",
      "metadata": {
        "id": "gAqCNh4y8DJz",
        "colab_type": "text"
      },
      "source": [
        "### Download Dataset and Support Files"
      ]
    },
    {
      "cell_type": "markdown",
      "metadata": {
        "id": "cGGM0EVmM24H",
        "colab_type": "text"
      },
      "source": [
        "Kaggle Competition Files"
      ]
    },
    {
      "cell_type": "code",
      "metadata": {
        "id": "UF-28Eb21E2w",
        "colab_type": "code",
        "colab": {}
      },
      "source": [
        "## Competition Dataset  (5GB zipped)\n",
        "if DownloadBigFiles:\n",
        "    ! kaggle competitions list\n",
        "    ! kaggle competitions download -c tensorflow2-question-answering -p /content/data\n",
        "    ! mv /content/data/sample_submission.csv /content/output/\n",
        "    ! unzip /content/data/simplified-nq-test.jsonl.zip -d /content/data/\n",
        "    ! rm /content/data/simplified-nq-test.jsonl.zip\n",
        "    ! unzip /content/data/simplified-nq-train.jsonl.zip -d /content/data/\n",
        "    ! rm /content/data/simplified-nq-train.jsonl.zip"
      ],
      "execution_count": 0,
      "outputs": []
    },
    {
      "cell_type": "markdown",
      "metadata": {
        "id": "XJoB8YB3MrvX",
        "colab_type": "text"
      },
      "source": [
        "Bert-Joint files from: \n",
        "https://github.com/google-research/language/tree/master/language/question_answering/bert_joint\n"
      ]
    },
    {
      "cell_type": "code",
      "metadata": {
        "id": "1uvuFGJ0MqHo",
        "colab_type": "code",
        "colab": {}
      },
      "source": [
        "gsutil cp -R gs://bert-nq/bert-joint-baseline /content/data"
      ],
      "execution_count": 0,
      "outputs": []
    },
    {
      "cell_type": "markdown",
      "metadata": {
        "id": "c4NrOOtpOVN0",
        "colab_type": "text"
      },
      "source": [
        "Bert files from: https://github.com/google-research/bert"
      ]
    },
    {
      "cell_type": "code",
      "metadata": {
        "id": "Pdp6tqXmmLw_",
        "colab_type": "code",
        "colab": {}
      },
      "source": [
        "## get BERT (this is unlikely to be the BERT-joint files needed for competition)\n",
        "# this version of BERT seems won't import as is. On line 88 of lib/bert/optimization.py\n",
        "#    change   tr.train.Optimizer to tf.keras.optimizers.Optimizer\n",
        "if DownloadBigFiles and False:\n",
        "    ! git clone https://github.com/google-research/bert.git\n",
        "    ! mv bert lib\n",
        "\n",
        "    # get some pretrained models  (I really  have no idea what these are or if useful)\n",
        "    ! wget https://storage.googleapis.com/bert_models/2018_10_18/cased_L-12_H-768_A-12.zip\n",
        "    ! unzip cased_L-12_H-768_A-12.zip\n",
        "    ! rm cased_L-12_H-768_A-12.zip"
      ],
      "execution_count": 0,
      "outputs": []
    },
    {
      "cell_type": "markdown",
      "metadata": {
        "id": "oU6FPUHjvH1r",
        "colab_type": "text"
      },
      "source": [
        "<Details><Summary>BERT tf.compat.v1 Notes</Summary>\n",
        "baseline_w_bert_translated_to_tf2_0 (next code block) comes from /dimitreoliveira with this warning:<br>\n",
        "This baseline uses code that was migrated from TF1.x. Be aware that it contains use of tf.compat.v1, which is not permitted to be eligible for TF2.0 prizes in this competition. It is intended to be used as a starting point, but we're excited to see how much better you can do using TF2.0!<br>\n",
        "https://www.kaggle.com/dimitreoliveira/using-tf-2-0-w-bert-on-nq-translated-to-tf2-0</Details>"
      ]
    },
    {
      "cell_type": "markdown",
      "metadata": {
        "colab_type": "text",
        "id": "bNPxSmhMJC5c"
      },
      "source": [
        "### Library Setup"
      ]
    },
    {
      "cell_type": "code",
      "metadata": {
        "id": "yr69yF8fepTA",
        "colab_type": "code",
        "colab": {}
      },
      "source": [
        "## Copy lib files over from Google Drive\n",
        "! cp -a /content/bertqa/lib/* lib/"
      ],
      "execution_count": 0,
      "outputs": []
    },
    {
      "cell_type": "code",
      "metadata": {
        "id": "qhpBRp11R0jv",
        "colab_type": "code",
        "colab": {
          "base_uri": "https://localhost:8080/",
          "height": 50
        },
        "outputId": "e873be1f-52eb-48e4-ab76-c0c70693b2a3"
      },
      "source": [
        "## Load Libraries\n",
        "\n",
        "%tensorflow_version 2.x \n",
        "import tensorflow\n",
        "print(\"TensofFlow\", tensorflow.__version__)\n",
        "\n",
        "import numpy as np\n",
        "import pandas as pd\n",
        "import tensorflow as tf\n",
        "\n",
        "import bert_modeling as modeling                    # from philculliton\n",
        "import bert_optimization as optimization            # from philculliton\n",
        "import bert_tokenization as tokenization            # from philculliton\n",
        "\n",
        "# import tf2_0_baseline_w_bert as tf2baseline # old script from philculliton\n",
        "import tf2_0_baseline_w_bert_translated_to_tf2_0 as tf2baseline # from dimitreoliveira\n",
        "\n",
        "import json\n",
        "import absl\n",
        "from zipfile import ZipFile"
      ],
      "execution_count": 20,
      "outputs": [
        {
          "output_type": "stream",
          "text": [
            "TensorFlow 2.x selected.\n",
            "TensofFlow 2.0.0\n"
          ],
          "name": "stdout"
        }
      ]
    },
    {
      "cell_type": "markdown",
      "metadata": {
        "id": "NsnKczo07ygW",
        "colab_type": "text"
      },
      "source": [
        "## -- Code Implementation in Tensorflow 2.0 --\n",
        "\n",
        "> **Note:** The code for this notebook is taken from the [translated version](https://www.kaggle.com/dimitreoliveira/using-tf-2-0-w-bert-on-nq-translated-to-tf2-0) posted by [Dimitre Oliviera](https://www.kaggle.com/dimitreoliveira)"
      ]
    },
    {
      "cell_type": "markdown",
      "metadata": {
        "id": "v7JSYsp-72La",
        "colab_type": "text"
      },
      "source": [
        "**This is a translated version of the baseline [script](https://www.kaggle.com/philculliton/using-tensorflow-2-0-w-bert-on-nq) from the Tensorflow team**\n",
        "\n",
        "**Oliviera translated the script to the Tensorflow 2.0 version, this way we can take part in the TF2 prizes and may use the version to improve the work.**\n",
        "\n",
        "**A few notes:**\n",
        "- If you want to keep using **flags** and **logging** you will have to use the **absl** lib (this is recommended by the TF team).\n",
        "- Since we won't use it with the kernels, he removed most of the **TPU** related stuff to reduce complexity.\n",
        "- Tensorflow 2 don't let us use global variables **(tf.compat.v1.trainable_variables())**.\n",
        "- If you have experience with Tensorflow 2 or have any correction/improvement, please let him know.\n",
        "\n",
        "\n",
        "In this notebook, we'll be using the Bert baseline for Tensorflow to create predictions for the Natural Questions test set. Note that this uses a model that has already been pre-trained - we're only doing inference here. A GPU is required, and this should take between 1-2 hours to run.\n",
        "\n",
        "The original script can be found [here](https://github.com/google-research/language/blob/master/language/question_answering/bert_joint/run_nq.py).\n",
        "The supporting modules were drawn from the [official Tensorflow model repository](https://github.com/tensorflow/models/tree/master/official). The bert-joint-baseline data is described [here](https://github.com/google-research/language/tree/master/language/question_answering/bert_joint).\n",
        "\n",
        "**Note:** This baseline uses code that was migrated from TF1.x. Be aware that it contains use of tf.compat.v1, which is not permitted to be eligible for [TF2.0 prizes in this competition](https://www.kaggle.com/c/tensorflow2-question-answering/overview/prizes). It is intended to be used as a starting point, but we're excited to see how much better you can do using TF2.0!"
      ]
    },
    {
      "cell_type": "markdown",
      "metadata": {
        "id": "Ioz1gRjeJiB7",
        "colab_type": "text"
      },
      "source": [
        "### Tensorflow Flags"
      ]
    },
    {
      "cell_type": "markdown",
      "metadata": {
        "id": "mdSi099XJsGa",
        "colab_type": "text"
      },
      "source": [
        "Tensorflow flags are variables that can be passed around within the TF system. Every flag below has some context provided regarding what the flag is and how it's used.<p>\n",
        "Most of these can be changed as desired, with the exception of the Special Flags at the bottom, which must stay as-is to work with the Kaggle back end."
      ]
    },
    {
      "cell_type": "code",
      "metadata": {
        "id": "DrfU_hZQJxWv",
        "colab_type": "code",
        "colab": {
          "base_uri": "https://localhost:8080/",
          "height": 33
        },
        "outputId": "2abf77a3-6c15-49d8-cc6a-470cdff96608"
      },
      "source": [
        "def del_all_flags(FLAGS):\n",
        "    flags_dict = FLAGS._flags()\n",
        "    keys_list = [keys for keys in flags_dict]\n",
        "    for keys in keys_list:\n",
        "        FLAGS.__delattr__(keys)\n",
        "\n",
        "del_all_flags(absl.flags.FLAGS)\n",
        "\n",
        "flags = absl.flags\n",
        "\n",
        "flags.DEFINE_string(\n",
        "    \"bert_config_file\", \"/kaggle/input/bertjointbaseline/bert_config.json\",\n",
        "    \"The config json file corresponding to the pre-trained BERT model. \"\n",
        "    \"This specifies the model architecture.\")\n",
        "\n",
        "flags.DEFINE_string(\"vocab_file\", \"/kaggle/input/bertjointbaseline/vocab-nq.txt\",\n",
        "                    \"The vocabulary file that the BERT model was trained on.\")\n",
        "\n",
        "flags.DEFINE_string(\n",
        "    \"output_dir\", \"outdir\",\n",
        "    \"The output directory where the model checkpoints will be written.\")\n",
        "\n",
        "flags.DEFINE_string(\"train_precomputed_file\", None,\n",
        "                    \"Precomputed tf records for training.\")\n",
        "\n",
        "flags.DEFINE_integer(\"train_num_precomputed\", None,\n",
        "                     \"Number of precomputed tf records for training.\")\n",
        "\n",
        "flags.DEFINE_string(\n",
        "    \"output_prediction_file\", \"predictions.json\",\n",
        "    \"Where to print predictions in NQ prediction format, to be passed to\"\n",
        "    \"natural_questions.nq_eval.\")\n",
        "\n",
        "flags.DEFINE_string(\n",
        "    \"init_checkpoint\", \"/kaggle/input/bertjointbaseline/bert_joint.ckpt\",\n",
        "    \"Initial checkpoint (usually from a pre-trained BERT model).\")\n",
        "\n",
        "flags.DEFINE_bool(\n",
        "    \"do_lower_case\", True,\n",
        "    \"Whether to lower case the input text. Should be True for uncased \"\n",
        "    \"models and False for cased models.\")\n",
        "\n",
        "flags.DEFINE_integer(\n",
        "    \"max_seq_length\", 384,\n",
        "    \"The maximum total input sequence length after WordPiece tokenization. \"\n",
        "    \"Sequences longer than this will be truncated, and sequences shorter \"\n",
        "    \"than this will be padded.\")\n",
        "\n",
        "flags.DEFINE_integer(\n",
        "    \"doc_stride\", 128,\n",
        "    \"When splitting up a long document into chunks, how much stride to \"\n",
        "    \"take between chunks.\")\n",
        "\n",
        "flags.DEFINE_integer(\n",
        "    \"max_query_length\", 64,\n",
        "    \"The maximum number of tokens for the question. Questions longer than \"\n",
        "    \"this will be truncated to this length.\")\n",
        "\n",
        "flags.DEFINE_bool(\"do_train\", False, \"Whether to run training.\")\n",
        "\n",
        "flags.DEFINE_bool(\"do_predict\", True, \"Whether to run eval on the dev set.\")\n",
        "\n",
        "flags.DEFINE_integer(\"train_batch_size\", 32, \"Total batch size for training.\")\n",
        "\n",
        "flags.DEFINE_integer(\"predict_batch_size\", 8,\n",
        "                     \"Total batch size for predictions.\")\n",
        "\n",
        "flags.DEFINE_float(\"learning_rate\", 5e-5, \"The initial learning rate for Adam.\")\n",
        "\n",
        "flags.DEFINE_float(\"num_train_epochs\", 3.0,\n",
        "                   \"Total number of training epochs to perform.\")\n",
        "\n",
        "flags.DEFINE_float(\n",
        "    \"warmup_proportion\", 0.1,\n",
        "    \"Proportion of training to perform linear learning rate warmup for. \"\n",
        "    \"E.g., 0.1 = 10% of training.\")\n",
        "\n",
        "flags.DEFINE_integer(\"save_checkpoints_steps\", 1000,\n",
        "                     \"How often to save the model checkpoint.\")\n",
        "\n",
        "flags.DEFINE_integer(\"iterations_per_loop\", 1000,\n",
        "                     \"How many steps to make in each estimator call.\")\n",
        "\n",
        "flags.DEFINE_integer(\n",
        "    \"n_best_size\", 20,\n",
        "    \"The total number of n-best predictions to generate in the \"\n",
        "    \"nbest_predictions.json output file.\")\n",
        "\n",
        "flags.DEFINE_integer(\n",
        "    \"verbosity\", 1, \"How verbose our error messages should be\")\n",
        "\n",
        "flags.DEFINE_integer(\n",
        "    \"max_answer_length\", 30,\n",
        "    \"The maximum length of an answer that can be generated. This is needed \"\n",
        "    \"because the start and end predictions are not conditioned on one another.\")\n",
        "\n",
        "flags.DEFINE_float(\n",
        "    \"include_unknowns\", -1.0,\n",
        "    \"If positive, probability of including answers of type `UNKNOWN`.\")\n",
        "\n",
        "flags.DEFINE_bool(\"use_tpu\", False, \"Whether to use TPU or GPU/CPU.\")\n",
        "flags.DEFINE_bool(\"use_one_hot_embeddings\", False, \"Whether to use use_one_hot_embeddings\")\n",
        "\n",
        "absl.flags.DEFINE_string(\n",
        "    \"gcp_project\", None,\n",
        "    \"[Optional] Project name for the Cloud TPU-enabled project. If not \"\n",
        "    \"specified, we will attempt to automatically detect the GCE project from \"\n",
        "    \"metadata.\")\n",
        "\n",
        "flags.DEFINE_bool(\n",
        "    \"verbose_logging\", False,\n",
        "    \"If true, all of the warnings related to data processing will be printed. \"\n",
        "    \"A number of warnings are expected for a normal NQ evaluation.\")\n",
        "\n",
        "flags.DEFINE_boolean(\n",
        "    \"skip_nested_contexts\", True,\n",
        "    \"Completely ignore context that are not top level nodes in the page.\")\n",
        "\n",
        "flags.DEFINE_integer(\"task_id\", 0,\n",
        "                     \"Train and dev shard to read from and write to.\")\n",
        "\n",
        "flags.DEFINE_integer(\"max_contexts\", 48,\n",
        "                     \"Maximum number of contexts to output for an example.\")\n",
        "\n",
        "flags.DEFINE_integer(\n",
        "    \"max_position\", 50,\n",
        "    \"Maximum context position for which to generate special tokens.\")\n",
        "\n",
        "\n",
        "## Special flags - do not change\n",
        "\n",
        "flags.DEFINE_string(\n",
        "    \"predict_file\", \"/kaggle/input/tensorflow2-question-answering/simplified-nq-test.jsonl\",\n",
        "    \"NQ json for predictions. E.g., dev-v1.1.jsonl.gz or test-v1.1.jsonl.gz\")\n",
        "flags.DEFINE_boolean(\"logtostderr\", True, \"Logs to stderr\")\n",
        "flags.DEFINE_boolean(\"undefok\", True, \"it's okay to be undefined\")\n",
        "flags.DEFINE_string('f', '', 'kernel')\n",
        "flags.DEFINE_string('HistoryManager.hist_file', '', 'kernel')\n",
        "\n",
        "FLAGS = flags.FLAGS\n",
        "FLAGS(sys.argv) # Parse the flags"
      ],
      "execution_count": 22,
      "outputs": [
        {
          "output_type": "execute_result",
          "data": {
            "text/plain": [
              "['/usr/local/lib/python3.6/dist-packages/ipykernel_launcher.py']"
            ]
          },
          "metadata": {
            "tags": []
          },
          "execution_count": 22
        }
      ]
    },
    {
      "cell_type": "markdown",
      "metadata": {
        "id": "Jr2VvpY58cA_",
        "colab_type": "text"
      },
      "source": [
        "**Here, we:**\n",
        "1. Set up Bert\n",
        "2. Read in the test set\n",
        "3. Run it past the pre-built Bert model to create embeddings\n",
        "4. Use those embeddings to make predictions\n",
        "5. Write those predictions to `predictions.json`\n",
        "\n",
        "Feel free to change the code below. Code for the `tf2baseline.*` functions is included in the `tf2_0_baseline_w_bert` utility script, and can be customized, whether by forking the utility script and updating it, or by creating your own non-`tf2baseline` versions in this kernel.\n",
        "\n",
        "Note: the `tf2_0_baseline_w_bert` utility script contains code for training your own embeddings. Here that code is removed."
      ]
    },
    {
      "cell_type": "code",
      "metadata": {
        "id": "uhXiuA8l8inG",
        "colab_type": "code",
        "colab": {
          "base_uri": "https://localhost:8080/",
          "height": 368
        },
        "outputId": "1d6f4564-443c-40aa-bcd0-619d619e19d8"
      },
      "source": [
        "bert_config = modeling.BertConfig.from_json_file(FLAGS.bert_config_file)\n",
        "\n",
        "tf2baseline.validate_flags_or_throw(bert_config)\n",
        "tf.io.gfile.makedirs(FLAGS.output_dir)\n",
        "\n",
        "tokenizer = tokenization.FullTokenizer(\n",
        "    vocab_file=FLAGS.vocab_file, do_lower_case=FLAGS.do_lower_case)\n",
        "\n",
        "run_config = tf.estimator.RunConfig(\n",
        "    model_dir=FLAGS.output_dir,\n",
        "    save_checkpoints_steps=FLAGS.save_checkpoints_steps)\n",
        "\n",
        "num_train_steps = None\n",
        "num_warmup_steps = None\n",
        "\n",
        "model_fn = tf2baseline.model_fn_builder(\n",
        "    bert_config=bert_config,\n",
        "    init_checkpoint=FLAGS.init_checkpoint,\n",
        "    learning_rate=FLAGS.learning_rate,\n",
        "    num_train_steps=num_train_steps,\n",
        "    num_warmup_steps=num_warmup_steps,\n",
        "    use_tpu=FLAGS.use_tpu,\n",
        "    use_one_hot_embeddings=FLAGS.use_one_hot_embeddings)\n",
        "\n",
        "estimator = tf.estimator.Estimator(\n",
        "    model_fn=model_fn,\n",
        "    config=run_config,\n",
        "    params={'batch_size':FLAGS.train_batch_size})\n",
        "\n",
        "\n",
        "if FLAGS.do_predict:\n",
        "  if not FLAGS.output_prediction_file:\n",
        "    raise ValueError(\n",
        "        \"--output_prediction_file must be defined in predict mode.\")\n",
        "    \n",
        "  eval_examples = tf2baseline.read_nq_examples(\n",
        "      input_file=FLAGS.predict_file, is_training=False)\n",
        "\n",
        "  print(\"FLAGS.predict_file\", FLAGS.predict_file)\n",
        "\n",
        "  eval_writer = tf2baseline.FeatureWriter(\n",
        "      filename=os.path.join(FLAGS.output_dir, \"eval.tf_record\"),\n",
        "      is_training=False)\n",
        "  eval_features = []\n",
        "\n",
        "  def append_feature(feature):\n",
        "    eval_features.append(feature)\n",
        "    eval_writer.process_feature(feature)\n",
        "\n",
        "  num_spans_to_ids = tf2baseline.convert_examples_to_features(\n",
        "      examples=eval_examples,\n",
        "      tokenizer=tokenizer,\n",
        "      is_training=False,\n",
        "      output_fn=append_feature)\n",
        "  eval_writer.close()\n",
        "  eval_filename = eval_writer.filename\n",
        "\n",
        "  print(\"***** Running predictions *****\")\n",
        "  print(f\"  Num orig examples = %d\" % len(eval_examples))\n",
        "  print(f\"  Num split examples = %d\" % len(eval_features))\n",
        "  print(f\"  Batch size = %d\" % FLAGS.predict_batch_size)\n",
        "  for spans, ids in num_spans_to_ids.items():\n",
        "    print(f\"  Num split into %d = %d\" % (spans, len(ids)))\n",
        "\n",
        "  predict_input_fn = tf2baseline.input_fn_builder(\n",
        "      input_file=eval_filename,\n",
        "      seq_length=FLAGS.max_seq_length,\n",
        "      is_training=False,\n",
        "      drop_remainder=False)\n",
        "\n",
        "  all_results = []\n",
        "\n",
        "  for result in estimator.predict(\n",
        "      predict_input_fn, yield_single_examples=True):\n",
        "    if len(all_results) % 1000 == 0:\n",
        "      print(\"Processing example: %d\" % (len(all_results)))\n",
        "\n",
        "    unique_id = int(result[\"unique_ids\"])\n",
        "    start_logits = [float(x) for x in result[\"start_logits\"].flat]\n",
        "    end_logits = [float(x) for x in result[\"end_logits\"].flat]\n",
        "    answer_type_logits = [float(x) for x in result[\"answer_type_logits\"].flat]\n",
        "\n",
        "    all_results.append(\n",
        "        tf2baseline.RawResult(\n",
        "            unique_id=unique_id,\n",
        "            start_logits=start_logits,\n",
        "            end_logits=end_logits,\n",
        "            answer_type_logits=answer_type_logits))\n",
        "\n",
        "  print (\"Going to candidates file\")\n",
        "\n",
        "  candidates_dict = tf2baseline.read_candidates(FLAGS.predict_file)\n",
        "\n",
        "  print (\"setting up eval features\")\n",
        "\n",
        "  raw_dataset = tf.data.TFRecordDataset(eval_filename)\n",
        "  eval_features = []\n",
        "  for raw_record in raw_dataset:\n",
        "    eval_features.append(tf.train.Example.FromString(raw_record.numpy()))\n",
        "    \n",
        "  print (\"compute_pred_dict\")\n",
        "\n",
        "  nq_pred_dict = tf2baseline.compute_pred_dict(candidates_dict, eval_features,\n",
        "                                   [r._asdict() for r in all_results])\n",
        "  predictions_json = {\"predictions\": list(nq_pred_dict.values())}\n",
        "\n",
        "  print (\"writing json\")\n",
        "\n",
        "  with tf.io.gfile.GFile(FLAGS.output_prediction_file, \"w\") as f:\n",
        "    json.dump(predictions_json, f, indent=4)"
      ],
      "execution_count": 23,
      "outputs": [
        {
          "output_type": "error",
          "ename": "NotFoundError",
          "evalue": "ignored",
          "traceback": [
            "\u001b[0;31m---------------------------------------------------------------------------\u001b[0m",
            "\u001b[0;31mNotFoundError\u001b[0m                             Traceback (most recent call last)",
            "\u001b[0;32m<ipython-input-23-4ef370a2ed8e>\u001b[0m in \u001b[0;36m<module>\u001b[0;34m()\u001b[0m\n\u001b[0;32m----> 1\u001b[0;31m \u001b[0mbert_config\u001b[0m \u001b[0;34m=\u001b[0m \u001b[0mmodeling\u001b[0m\u001b[0;34m.\u001b[0m\u001b[0mBertConfig\u001b[0m\u001b[0;34m.\u001b[0m\u001b[0mfrom_json_file\u001b[0m\u001b[0;34m(\u001b[0m\u001b[0mFLAGS\u001b[0m\u001b[0;34m.\u001b[0m\u001b[0mbert_config_file\u001b[0m\u001b[0;34m)\u001b[0m\u001b[0;34m\u001b[0m\u001b[0;34m\u001b[0m\u001b[0m\n\u001b[0m\u001b[1;32m      2\u001b[0m \u001b[0;34m\u001b[0m\u001b[0m\n\u001b[1;32m      3\u001b[0m \u001b[0mtf2baseline\u001b[0m\u001b[0;34m.\u001b[0m\u001b[0mvalidate_flags_or_throw\u001b[0m\u001b[0;34m(\u001b[0m\u001b[0mbert_config\u001b[0m\u001b[0;34m)\u001b[0m\u001b[0;34m\u001b[0m\u001b[0;34m\u001b[0m\u001b[0m\n\u001b[1;32m      4\u001b[0m \u001b[0mtf\u001b[0m\u001b[0;34m.\u001b[0m\u001b[0mio\u001b[0m\u001b[0;34m.\u001b[0m\u001b[0mgfile\u001b[0m\u001b[0;34m.\u001b[0m\u001b[0mmakedirs\u001b[0m\u001b[0;34m(\u001b[0m\u001b[0mFLAGS\u001b[0m\u001b[0;34m.\u001b[0m\u001b[0moutput_dir\u001b[0m\u001b[0;34m)\u001b[0m\u001b[0;34m\u001b[0m\u001b[0;34m\u001b[0m\u001b[0m\n\u001b[1;32m      5\u001b[0m \u001b[0;34m\u001b[0m\u001b[0m\n",
            "\u001b[0;32m/content/lib/bert_modeling.py\u001b[0m in \u001b[0;36mfrom_json_file\u001b[0;34m(cls, json_file)\u001b[0m\n\u001b[1;32m    266\u001b[0m     \u001b[0;34m\"\"\"Constructs a `BertConfig` from a json file of parameters.\"\"\"\u001b[0m\u001b[0;34m\u001b[0m\u001b[0;34m\u001b[0m\u001b[0m\n\u001b[1;32m    267\u001b[0m     \u001b[0;32mwith\u001b[0m \u001b[0mtf\u001b[0m\u001b[0;34m.\u001b[0m\u001b[0mio\u001b[0m\u001b[0;34m.\u001b[0m\u001b[0mgfile\u001b[0m\u001b[0;34m.\u001b[0m\u001b[0mGFile\u001b[0m\u001b[0;34m(\u001b[0m\u001b[0mjson_file\u001b[0m\u001b[0;34m,\u001b[0m \u001b[0;34m\"r\"\u001b[0m\u001b[0;34m)\u001b[0m \u001b[0;32mas\u001b[0m \u001b[0mreader\u001b[0m\u001b[0;34m:\u001b[0m\u001b[0;34m\u001b[0m\u001b[0;34m\u001b[0m\u001b[0m\n\u001b[0;32m--> 268\u001b[0;31m       \u001b[0mtext\u001b[0m \u001b[0;34m=\u001b[0m \u001b[0mreader\u001b[0m\u001b[0;34m.\u001b[0m\u001b[0mread\u001b[0m\u001b[0;34m(\u001b[0m\u001b[0;34m)\u001b[0m\u001b[0;34m\u001b[0m\u001b[0;34m\u001b[0m\u001b[0m\n\u001b[0m\u001b[1;32m    269\u001b[0m     \u001b[0;32mreturn\u001b[0m \u001b[0mcls\u001b[0m\u001b[0;34m.\u001b[0m\u001b[0mfrom_dict\u001b[0m\u001b[0;34m(\u001b[0m\u001b[0mjson\u001b[0m\u001b[0;34m.\u001b[0m\u001b[0mloads\u001b[0m\u001b[0;34m(\u001b[0m\u001b[0mtext\u001b[0m\u001b[0;34m)\u001b[0m\u001b[0;34m)\u001b[0m\u001b[0;34m\u001b[0m\u001b[0;34m\u001b[0m\u001b[0m\n\u001b[1;32m    270\u001b[0m \u001b[0;34m\u001b[0m\u001b[0m\n",
            "\u001b[0;32m/tensorflow-2.0.0/python3.6/tensorflow_core/python/lib/io/file_io.py\u001b[0m in \u001b[0;36mread\u001b[0;34m(self, n)\u001b[0m\n\u001b[1;32m    120\u001b[0m       \u001b[0mstring\u001b[0m \u001b[0;32mif\u001b[0m \u001b[0;32min\u001b[0m \u001b[0mstring\u001b[0m \u001b[0;34m(\u001b[0m\u001b[0mregular\u001b[0m\u001b[0;34m)\u001b[0m \u001b[0mmode\u001b[0m\u001b[0;34m.\u001b[0m\u001b[0;34m\u001b[0m\u001b[0;34m\u001b[0m\u001b[0m\n\u001b[1;32m    121\u001b[0m     \"\"\"\n\u001b[0;32m--> 122\u001b[0;31m     \u001b[0mself\u001b[0m\u001b[0;34m.\u001b[0m\u001b[0m_preread_check\u001b[0m\u001b[0;34m(\u001b[0m\u001b[0;34m)\u001b[0m\u001b[0;34m\u001b[0m\u001b[0;34m\u001b[0m\u001b[0m\n\u001b[0m\u001b[1;32m    123\u001b[0m     \u001b[0;32mif\u001b[0m \u001b[0mn\u001b[0m \u001b[0;34m==\u001b[0m \u001b[0;34m-\u001b[0m\u001b[0;36m1\u001b[0m\u001b[0;34m:\u001b[0m\u001b[0;34m\u001b[0m\u001b[0;34m\u001b[0m\u001b[0m\n\u001b[1;32m    124\u001b[0m       \u001b[0mlength\u001b[0m \u001b[0;34m=\u001b[0m \u001b[0mself\u001b[0m\u001b[0;34m.\u001b[0m\u001b[0msize\u001b[0m\u001b[0;34m(\u001b[0m\u001b[0;34m)\u001b[0m \u001b[0;34m-\u001b[0m \u001b[0mself\u001b[0m\u001b[0;34m.\u001b[0m\u001b[0mtell\u001b[0m\u001b[0;34m(\u001b[0m\u001b[0;34m)\u001b[0m\u001b[0;34m\u001b[0m\u001b[0;34m\u001b[0m\u001b[0m\n",
            "\u001b[0;32m/tensorflow-2.0.0/python3.6/tensorflow_core/python/lib/io/file_io.py\u001b[0m in \u001b[0;36m_preread_check\u001b[0;34m(self)\u001b[0m\n\u001b[1;32m     82\u001b[0m                                            \"File isn't open for reading\")\n\u001b[1;32m     83\u001b[0m       self._read_buf = pywrap_tensorflow.CreateBufferedInputStream(\n\u001b[0;32m---> 84\u001b[0;31m           compat.as_bytes(self.__name), 1024 * 512)\n\u001b[0m\u001b[1;32m     85\u001b[0m \u001b[0;34m\u001b[0m\u001b[0m\n\u001b[1;32m     86\u001b[0m   \u001b[0;32mdef\u001b[0m \u001b[0m_prewrite_check\u001b[0m\u001b[0;34m(\u001b[0m\u001b[0mself\u001b[0m\u001b[0;34m)\u001b[0m\u001b[0;34m:\u001b[0m\u001b[0;34m\u001b[0m\u001b[0;34m\u001b[0m\u001b[0m\n",
            "\u001b[0;31mNotFoundError\u001b[0m: /kaggle/input/bertjointbaseline/bert_config.json; No such file or directory"
          ]
        }
      ]
    },
    {
      "cell_type": "markdown",
      "metadata": {
        "id": "JewhO67Y8v8h",
        "colab_type": "text"
      },
      "source": [
        "**Now, we turn `predictions.json` into a `submission.csv` file.**"
      ]
    },
    {
      "cell_type": "code",
      "metadata": {
        "id": "EzQ38Vqh818y",
        "colab_type": "code",
        "colab": {}
      },
      "source": [
        "test_answers_df = pd.read_json(\"/kaggle/working/predictions.json\")"
      ],
      "execution_count": 0,
      "outputs": []
    },
    {
      "cell_type": "markdown",
      "metadata": {
        "id": "AOsY9ciQ86T9",
        "colab_type": "text"
      },
      "source": [
        "The Bert model produces a `confidence` score, which the Kaggle metric does not use. You, however, can use that score to determine which answers get submitted. See the limits commented out in `create_short_answer` and `create_long_answer` below for an example.\n",
        "\n",
        "Values for `confidence` will range between `1.0` and `2.0`."
      ]
    },
    {
      "cell_type": "code",
      "metadata": {
        "id": "_pLLGrp68_dx",
        "colab_type": "code",
        "colab": {}
      },
      "source": [
        "def create_short_answer(entry):\n",
        "    # if entry[\"short_answers_score\"] < 1.5:\n",
        "    #     return \"\"\n",
        "    \n",
        "    answer = []    \n",
        "    for short_answer in entry[\"short_answers\"]:\n",
        "        if short_answer[\"start_token\"] > -1:\n",
        "            answer.append(str(short_answer[\"start_token\"]) + \":\" + str(short_answer[\"end_token\"]))\n",
        "    if entry[\"yes_no_answer\"] != \"NONE\":\n",
        "        answer.append(entry[\"yes_no_answer\"])\n",
        "    return \" \".join(answer)\n",
        "\n",
        "def create_long_answer(entry):\n",
        "   # if entry[\"long_answer_score\"] < 1.5:\n",
        "   # return \"\"\n",
        "\n",
        "    answer = []\n",
        "    if entry[\"long_answer\"][\"start_token\"] > -1:\n",
        "        answer.append(str(entry[\"long_answer\"][\"start_token\"]) + \":\" + str(entry[\"long_answer\"][\"end_token\"]))\n",
        "    return \" \".join(answer)"
      ],
      "execution_count": 0,
      "outputs": []
    },
    {
      "cell_type": "code",
      "metadata": {
        "id": "qGPtPWt-9Ezv",
        "colab_type": "code",
        "colab": {}
      },
      "source": [
        "test_answers_df[\"long_answer_score\"] = test_answers_df[\"predictions\"].apply(lambda q: q[\"long_answer_score\"])\n",
        "test_answers_df[\"short_answer_score\"] = test_answers_df[\"predictions\"].apply(lambda q: q[\"short_answers_score\"])"
      ],
      "execution_count": 0,
      "outputs": []
    },
    {
      "cell_type": "code",
      "metadata": {
        "id": "BAYeB3b49FD7",
        "colab_type": "code",
        "colab": {}
      },
      "source": [
        "test_answers_df[\"long_answer_score\"].describe()"
      ],
      "execution_count": 0,
      "outputs": []
    },
    {
      "cell_type": "markdown",
      "metadata": {
        "id": "P8CKpPl_9FlK",
        "colab_type": "text"
      },
      "source": [
        "An example of what each sample's answers look like in `prediction.json`:"
      ]
    },
    {
      "cell_type": "code",
      "metadata": {
        "id": "dZq25BPS9F4K",
        "colab_type": "code",
        "colab": {}
      },
      "source": [
        "test_answers_df.predictions.values[0]"
      ],
      "execution_count": 0,
      "outputs": []
    },
    {
      "cell_type": "markdown",
      "metadata": {
        "id": "wrV1V3bY9GLX",
        "colab_type": "text"
      },
      "source": [
        "We re-format the JSON answers to match the requirements for submission."
      ]
    },
    {
      "cell_type": "code",
      "metadata": {
        "id": "jTkDHMbH9GdD",
        "colab_type": "code",
        "colab": {}
      },
      "source": [
        "test_answers_df[\"long_answer\"] = test_answers_df[\"predictions\"].apply(create_long_answer)\n",
        "test_answers_df[\"short_answer\"] = test_answers_df[\"predictions\"].apply(create_short_answer)\n",
        "test_answers_df[\"example_id\"] = test_answers_df[\"predictions\"].apply(lambda q: str(q[\"example_id\"]))\n",
        "\n",
        "long_answers = dict(zip(test_answers_df[\"example_id\"], test_answers_df[\"long_answer\"]))\n",
        "short_answers = dict(zip(test_answers_df[\"example_id\"], test_answers_df[\"short_answer\"]))"
      ],
      "execution_count": 0,
      "outputs": []
    },
    {
      "cell_type": "markdown",
      "metadata": {
        "id": "GfNRzj9m9IJI",
        "colab_type": "text"
      },
      "source": [
        "Then we add them to our sample submission. Recall that each sample has both a `_long` and `_short` entry in the sample submission, one for each type of answer."
      ]
    },
    {
      "cell_type": "code",
      "metadata": {
        "id": "YzzaCu2N9IcO",
        "colab_type": "code",
        "colab": {}
      },
      "source": [
        "sample_submission = pd.read_csv(\"/kaggle/input/tensorflow2-question-answering/sample_submission.csv\")\n",
        "\n",
        "long_prediction_strings = sample_submission[sample_submission[\"example_id\"].str.contains(\"_long\")].apply(lambda q: long_answers[q[\"example_id\"].replace(\"_long\", \"\")], axis=1)\n",
        "short_prediction_strings = sample_submission[sample_submission[\"example_id\"].str.contains(\"_short\")].apply(lambda q: short_answers[q[\"example_id\"].replace(\"_short\", \"\")], axis=1)\n",
        "\n",
        "sample_submission.loc[sample_submission[\"example_id\"].str.contains(\"_long\"), \"PredictionString\"] = long_prediction_strings\n",
        "sample_submission.loc[sample_submission[\"example_id\"].str.contains(\"_short\"), \"PredictionString\"] = short_prediction_strings"
      ],
      "execution_count": 0,
      "outputs": []
    },
    {
      "cell_type": "markdown",
      "metadata": {
        "id": "YpuRebPx9I98",
        "colab_type": "text"
      },
      "source": [
        "And finally, we write out our submission!"
      ]
    },
    {
      "cell_type": "code",
      "metadata": {
        "id": "lT0rej2E9JTr",
        "colab_type": "code",
        "colab": {}
      },
      "source": [
        "sample_submission.to_csv(\"submission.csv\", index=False)\n",
        "sample_submission.head()"
      ],
      "execution_count": 0,
      "outputs": []
    },
    {
      "cell_type": "markdown",
      "metadata": {
        "id": "CmkZDNQK98df",
        "colab_type": "text"
      },
      "source": [
        "## -- Submitting Results --"
      ]
    },
    {
      "cell_type": "code",
      "metadata": {
        "id": "rYwGNnso97Yr",
        "colab_type": "code",
        "colab": {}
      },
      "source": [
        "## View Previous Results\n",
        "! kaggle competitions submissions -c $KAGGLE_COMPETITION_NAME"
      ],
      "execution_count": 0,
      "outputs": []
    },
    {
      "cell_type": "code",
      "metadata": {
        "id": "Rr1JY__B-PnG",
        "colab_type": "code",
        "colab": {}
      },
      "source": [
        "## Make Submission\n",
        "!kaggle competitions submit -c $KAGGLE_COMPETITION_NAME -f $RESULT_CSV  -m 'test kaggle cli 3'"
      ],
      "execution_count": 0,
      "outputs": []
    },
    {
      "cell_type": "markdown",
      "metadata": {
        "id": "sBJjB1J3-fUL",
        "colab_type": "text"
      },
      "source": [
        "Verify submission by viewing previous results"
      ]
    }
  ]
}