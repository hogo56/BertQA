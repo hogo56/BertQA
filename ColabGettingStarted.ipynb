{
  "nbformat": 4,
  "nbformat_minor": 0,
  "metadata": {
    "colab": {
      "name": "ColabGettingStarted.ipynb",
      "provenance": [],
      "collapsed_sections": [
        "93AfEfEABMXB",
        "javRwDS6zhOC",
        "Vk7GFxxMNKej"
      ],
      "toc_visible": true,
      "include_colab_link": true
    },
    "kernelspec": {
      "name": "python3",
      "display_name": "Python 3"
    },
    "accelerator": "GPU"
  },
  "cells": [
    {
      "cell_type": "markdown",
      "metadata": {
        "id": "view-in-github",
        "colab_type": "text"
      },
      "source": [
        "<a href=\"https://colab.research.google.com/github/howardgoff/BertQA/blob/master/ColabGettingStarted.ipynb\" target=\"_parent\"><img src=\"https://colab.research.google.com/assets/colab-badge.svg\" alt=\"Open In Colab\"/></a>"
      ]
    },
    {
      "cell_type": "markdown",
      "metadata": {
        "id": "Js7aj8RDhSjz",
        "colab_type": "text"
      },
      "source": [
        "# Colab / Kaggle Getting Started"
      ]
    },
    {
      "cell_type": "markdown",
      "metadata": {
        "id": "SA1MAb09BlQB",
        "colab_type": "text"
      },
      "source": [
        "I prefer to do my primary development in a Colab virtual machine but, competitions require your kernel to run on Kaggle for scoring. You can start with this notebook and add your own project code which should run in either location if you use the directory variables for file locations and correctly configure data and user libraries in Kaggle.<p>\n",
        "The main differences are the file locations. On Colab you will symlink to a google Drive and for Kaggle you will need to upload your files as a .zip data file If you want SSH access there is code at bottom to allow this for Colab (not possible on Kaggle).<p>\n",
        "If you run into problems or have suggestions I'd love to hear from you."
      ]
    },
    {
      "cell_type": "markdown",
      "metadata": {
        "id": "93AfEfEABMXB",
        "colab_type": "text"
      },
      "source": [
        "## Explanation"
      ]
    },
    {
      "cell_type": "markdown",
      "metadata": {
        "id": "eKO_K9DlBuyk",
        "colab_type": "text"
      },
      "source": [
        "### Data & Directories\n",
        "There are a couple of differences between Kaggle and Colab.<p>\n",
        "**Colab** - Is a live linux system with nothing being persistant. You can attach a google drive to your kernel and/or download files from gs://, GitHub, Kaggle, etc. Using drive can have a performance penalty but is the easiest way to access persistent files.<br>\n",
        "I am symlinking Library files and output files.<br>\n",
        "Because my google drive space is limited I choose to download large data files each time the kernel is used.<p>\n",
        "**Kaggle** - The kernel has a persistent ./input directory for data that is read only. You can attach data and library files there. (zip your files into a single file and upload the .zip).<br>\n",
        "Your private ./lib directory can ba zipped and uploaded there as ./input/lib<br>\n",
        "You can also create notebooks of kernel type \"script\" and then file->Add Utility Script in your competition notebook to attach the script files under ./usr/lib but you have to do this one file at a time. (see: https://www.kaggle.com/product-feedback/91185 for more information)<br>\n",
        "I don't think competition scoring allows internet access so all files have to be attached to your notebook at submit time."
      ]
    },
    {
      "cell_type": "markdown",
      "metadata": {
        "id": "e7d1DROZB3cF",
        "colab_type": "text"
      },
      "source": [
        "### User Libraries\n",
        "**Colab** - you have a file system you can write to and if you need libraries you download them from somewhere. (eg. Google Dirve, Kaggle, GitHub)<br>\n",
        "**Kaggle** - you have two options (internet connections are disabled during competition scoring):<p>\n",
        "   * Add custom libraries to a dataset and include the dataset in your Kaggle kernel.<br>\n",
        "   * Create a new kernel as a script, set it as a \"Utility Script\", add the kernel-script as a utility script in your competition kernel. The sctript will be linked to your kernel in the/kaggle/usr/lib directory (see: https://www.kaggle.com/product-feedback/91185 for more information) "
      ]
    },
    {
      "cell_type": "markdown",
      "metadata": {
        "id": "4jVUDqVnqy9-",
        "colab_type": "text"
      },
      "source": [
        "### SSH\n",
        "You can SSH into the Colab. If you do this you can vim the ./lib files directly and they will be\n",
        "persistant. Also, since all project and notebook ./lib files are in gdrive you can access all of them through any of your Colab kernels by using the gdrive directory."
      ]
    },
    {
      "cell_type": "markdown",
      "metadata": {
        "id": "IOQz9QFOB5EB",
        "colab_type": "text"
      },
      "source": [
        "### Switching between Colab & Kaggle\n",
        "One way of moving your script from Colab to Kaggle to run is:<br>\n",
        "   * delete all cells from your Kaggle competition notebook<br>\n",
        "   * download the .ipynb from Colab<br>\n",
        "   * upload it into the blank Kaggle notebook.<br>\n",
        "   * delete the cells near the bottom of the notebook that need to be deleted when running on Kaggle<br>\n",
        "   * update any script parameters (eg. verbose)\n",
        "   * zip your current library files into a lib.zip and upload to your Kaggle dataset file\n",
        "   * if you have changed ./data files make sure your Kaggle kernel has the current versions of those files"
      ]
    },
    {
      "cell_type": "markdown",
      "metadata": {
        "id": "7dMWt8F8B9k2",
        "colab_type": "text"
      },
      "source": [
        "### Drectory Structure (Notebook)\n",
        "\n",
        "* Kaggle &nbsp; &nbsp; &nbsp; &nbsp; &nbsp; &nbsp; &nbsp; &nbsp; &nbsp; &nbsp; &nbsp; &nbsp; &nbsp; &nbsp; &nbsp; &nbsp; &nbsp; &nbsp; &nbsp; <em>(cwd = /kaggle/working/)</em><br>\n",
        "  {datadir} = /kaggle/input<br>\n",
        "  {libdir} = /kaggle/input/lib &nbsp; &nbsp; &nbsp; (or /kaggle/usr/lib)<br>\n",
        "  {outdir} = /kaggle/working<br>\n",
        "* Colab &nbsp; &nbsp; &nbsp; &nbsp; &nbsp; &nbsp; &nbsp; &nbsp; &nbsp; &nbsp; &nbsp; &nbsp; &nbsp; &nbsp; &nbsp; &nbsp; &nbsp; &nbsp; &nbsp; &nbsp; &nbsp; <em>(cwd = /content/)</em><br>\n",
        "  {datadir} = /content/data<br>\n",
        "  {libdir} = /content/lib<br>\n",
        "  {outdir} = /content/output<br>\n",
        "\n",
        "#### - Required Libraries\n",
        "   * {libdir}/lib_names.py\n",
        "\n",
        "#### - Inputs (competition data)\n",
        "   * {datadir}/{competition}/ (from: https://www.kaggle.com/_path_/)\n",
        "\n",
        "#### - Required Data (additional packages)\n",
        "   * {datadir}/kaggle-dataset (from https://www.kaggle.com/_user_/_dataset_/)\n",
        "\n",
        "#### - Outputs\n",
        "   * {outdir}/predictions.json\n",
        "   * {outdir}/submission.csv<br>\n",
        "   * {outdir}/eval.tf_record<br>\n",
        "   * {outdir}/.ipynb_checkpoints/<br>"
      ]
    },
    {
      "cell_type": "markdown",
      "metadata": {
        "id": "ftZ8SR0WC5Nj",
        "colab_type": "text"
      },
      "source": [
        "### Drectory Structure (Google Drive)\n",
        "The following is the file structure for your google drive:<p>\n",
        "\n",
        "/My Drive/Colab/ &nbsp; &nbsp; &nbsp; &nbsp; &nbsp; &nbsp; &nbsp; &nbsp; &nbsp; &nbsp; &nbsp; &nbsp; &nbsp; &nbsp; &nbsp; &nbsp; &nbsp; &nbsp; &nbsp; &nbsp; &nbsp; <em>(this directory should be private)</em><br>\n",
        "/My Drive/Colab/kaggle.json &nbsp; &nbsp; &nbsp; &nbsp; &nbsp; &nbsp; &nbsp; &nbsp; &nbsp; &nbsp; &nbsp; <em>(your personal Kaggle auth file)</em><br>\n",
        "/My Drive/Colab/{projdir}/ &nbsp; &nbsp; &nbsp; &nbsp; &nbsp; &nbsp; &nbsp; &nbsp; &nbsp; &nbsp; &nbsp; &nbsp; &nbsp; &nbsp; &nbsp; &nbsp; &nbsp; &nbsp; &nbsp; &nbsp; (folder for a specific project/competition)<br>\n",
        "/My Drive/Colab/{projdir}/{notebook}/&nbsp; &nbsp; &nbsp; &nbsp; &nbsp; &nbsp; &nbsp; &nbsp; &nbsp; &nbsp; &nbsp; &nbsp;(individual notebook within project)<br>\n",
        "/My Drive/Colab/{projdir}/{notebook}/notebook.ipynb<br>\n",
        "/My Drive/Colab/{projdir}/{notebook}/lib/<br>\n",
        "/My Drive/Colab/{projdir}/{notebook}/output/<br>\n",
        "/My Drive/{projdir}/ &nbsp; &nbsp; &nbsp; &nbsp; &nbsp; &nbsp; &nbsp; &nbsp; &nbsp; &nbsp; &nbsp; &nbsp; &nbsp; &nbsp; &nbsp; &nbsp; &nbsp; &nbsp; &nbsp; <em>(optional directory to be shared between teams)</em><br><p>\n",
        "Using this directory structure and the variables in the config variables section below you can have any number of projects on your google drive and any number of notebook versions in each project. Each notebook can have a unique set of libraries.<p>\n",
        "There is also a {nbver} which, if not '' is appended to the end of {outdir} and {libdir} offering additional flexibility if you want (if not just set it to ''}\n"
      ]
    },
    {
      "cell_type": "markdown",
      "metadata": {
        "id": "UfDEb-Lprdn2",
        "colab_type": "text"
      },
      "source": [
        "### GitHub\n",
        "As I learn more about GitHub I will add information here. But, I think you can choose to make repositaries out of either /My Drive/Colab/{projdir}/ or /My Drive/Colab/{projdir}/{notebook}/   <p>\n",
        "You can then either pull/push to the shared repo directly from the Colab (using ssh, using %%bash commands in notebook or by linking the google Drive to your local machine and doing it from there.<p>\n",
        "From within the Colab all files are in your google drive from the path /content/gdrive/My\\ Drive/Colab/..."
      ]
    },
    {
      "cell_type": "markdown",
      "metadata": {
        "id": "tiQT_p1OCN9J",
        "colab_type": "text"
      },
      "source": [
        "### - Notes\n",
        "Put notes about your Notebook here"
      ]
    },
    {
      "cell_type": "markdown",
      "metadata": {
        "colab_type": "text",
        "id": "jCycAU1aL99h"
      },
      "source": [
        "\n",
        "\n",
        "\n",
        "\n",
        "\n",
        "\n",
        "### - Credits / Ancestry\n",
        "If your notebook is a fork or combination of other notebooks here you should provide links so other people can look at where you built your current work from.<p>\n",
        "This notebook is a fork of [mmmarchetti's notebook](https://www.kaggle.com/mmmarchetti/tensorflow-2-0-bert-yes-no-answers) which was a fork of [prokaj's - bert joint baseline notebook](https://www.kaggle.com/prokaj/bert-joint-baseline-notebook/notebook).<br>\n",
        "mmmarchetti made some modifications to slightly improve the code and get the YES / NO answers and leave the unknowns blank."
      ]
    },
    {
      "cell_type": "markdown",
      "metadata": {
        "id": "jNoEkLc0CXXu",
        "colab_type": "text"
      },
      "source": [
        "## Notebook Variables"
      ]
    },
    {
      "cell_type": "code",
      "metadata": {
        "id": "l37smAnmsG07",
        "colab_type": "code",
        "colab": {}
      },
      "source": [
        "CompSubmission = False                       # Set to True if submitting to Competition"
      ],
      "execution_count": 0,
      "outputs": []
    },
    {
      "cell_type": "code",
      "metadata": {
        "id": "gJDucp7Ttabs",
        "colab_type": "code",
        "colab": {}
      },
      "source": [
        "## Turn this on for development to make sure library updates get reimported\n",
        "#  will reduce performance so comment out for production.\n",
        "%load_ext autoreload\n",
        "%autoreload 2"
      ],
      "execution_count": 0,
      "outputs": []
    },
    {
      "cell_type": "code",
      "metadata": {
        "id": "HaUs7DxSKDVG",
        "colab_type": "code",
        "colab": {}
      },
      "source": [
        "## Helper Functions   (probably will move to a library eventually)\n",
        "import os\n",
        "\n",
        "# Custom Error Handler\n",
        "class ExecutionStop(Exception):\n",
        "    ''' forces notebook to stop with a raised exception '''\n",
        "    def __init__(self, value): self.value=value\n",
        "    def __str__(self): return(str(self.value))\n",
        "\n",
        "#  Show list of file sand directories                 (it seems that this is skipping the symlinks)\n",
        "def list_files(startpath, exclude=[\"/.config\", \"/gdrive\"]):\n",
        "    ''' Lists files in {startpath} optionally excluding {exclude} directories '''\n",
        "    for root, _, files in os.walk(startpath, followlinks=True):\n",
        "        if any([e in root for e in exclude]):\n",
        "            continue\n",
        "        level = root.replace(startpath, '').count(os.sep)\n",
        "        indent = ' ' * 4 * (level)\n",
        "        print(f\"{indent}{os.path.basename(root)}/\")\n",
        "        subindent = ' ' * 4 * (level + 1)\n",
        "        for f in files:\n",
        "            print(f\"{subindent}{f}\")\n",
        "\n",
        "def print_flags():\n",
        "    ''' Prints the program config flags '''\n",
        "    if verbose:\n",
        "        print(\"\\nParameters:\")\n",
        "        FLAGS = tf.flags.FLAGS\n",
        "        for attr, obj in sorted(FLAGS.__flags.items()):\n",
        "            print(f\"{attr.upper()}={obj.value}\")\n",
        "        print(\"\")\n",
        "\n",
        "def del_all_flags(FLAGS):\n",
        "    ''' Deletes all program flags '''\n",
        "    flags_dict = FLAGS._flags()\n",
        "    keys_list = [keys for keys in flags_dict]\n",
        "    for keys in keys_list:\n",
        "        FLAGS.__delattr__(keys)\n",
        "\n",
        "# raise ExecutionStop(\"Message\")"
      ],
      "execution_count": 0,
      "outputs": []
    },
    {
      "cell_type": "code",
      "metadata": {
        "id": "F30YID4j_khp",
        "colab_type": "code",
        "outputId": "75b4ff90-bef1-4bc9-e856-b9b38feaa2fb",
        "colab": {
          "base_uri": "https://localhost:8080/",
          "height": 33
        }
      },
      "source": [
        "## Set file locations    (these variables are not implemented in the FLAGS code yet)\n",
        "import os, sys\n",
        "from pathlib import Path\n",
        "\n",
        "## Config Variables\n",
        "verbose = True if not CompSubmission else False  # Turn this off to supress some of the \"fyi\" output\n",
        "competition = 'kaggle-competition_data'          # make this the name of the Kaggle comp dataset\n",
        "train_file = ''                       # Set this below when you download the training file\n",
        "test_file = ''                        # Set this below when you download the test file\n",
        "projdir = 'projdir'                   # The project directory on Drive for this competition\n",
        "notebook = 'GettingStarted'           # Subdir on Drive for files specific to this notebook\n",
        "nbver = ''                            # library/output subfolder for this notebook version, or ''\n",
        "DownloadBigFiles = True               # Files will not download if already on drive\n",
        "EnableSMSMessages = False             # Allows notebook to attempt to send SMS alerts\n",
        "\n",
        "if Path('/content').exists():\n",
        "    print(\"Detected running on Colab\")\n",
        "    kernel = 'Colab'\n",
        "    basedir = '/content'\n",
        "    libdir = f\"{basedir}/lib\"\n",
        "    datadir = f\"{basedir}/data\"\n",
        "    outdir = f\"{basedir}/output\"      # will be symlinked to a user's private gdrive for persistence\n",
        "elif Path('/kaggle').exists():\n",
        "    print(\"Detected running on Kaggle\")\n",
        "    kernel = 'Kaggle'\n",
        "    basedir = '/kaggle'\n",
        "    libdir = f\"{basedir}/input/lib\"   # you will upload a {name}.zip file as a dataset\n",
        "    datadir = f\"{basedir}/input\"      # this may need to be '../input' for scoring\n",
        "    outdir = f\"{basedir}/working\"     # this may need to be '.' for scoring\n",
        "else:\n",
        "    raise ExecutionStop(\"Cannot continue without determining file locations\")"
      ],
      "execution_count": 4,
      "outputs": [
        {
          "output_type": "stream",
          "text": [
            "Detected running on Colab\n"
          ],
          "name": "stdout"
        }
      ]
    },
    {
      "cell_type": "markdown",
      "metadata": {
        "id": "MNzAuLZDzG_R",
        "colab_type": "text"
      },
      "source": [
        "# ============= Machine Spinup ============="
      ]
    },
    {
      "cell_type": "code",
      "metadata": {
        "id": "vKPv6ALYbXiY",
        "colab_type": "code",
        "outputId": "87ff3035-8a9d-45e0-95af-9187118c9225",
        "colab": {
          "base_uri": "https://localhost:8080/",
          "height": 166
        }
      },
      "source": [
        "! zdump PST\n",
        "if verbose:\n",
        "    list_files(basedir)"
      ],
      "execution_count": 5,
      "outputs": [
        {
          "output_type": "stream",
          "text": [
            "PST  Thu Jan 16 12:58:30 2020 PST\n",
            "content/\n",
            "    sample_data/\n",
            "        README.md\n",
            "        anscombe.json\n",
            "        california_housing_test.csv\n",
            "        mnist_test.csv\n",
            "        mnist_train_small.csv\n",
            "        california_housing_train.csv\n"
          ],
          "name": "stdout"
        }
      ]
    },
    {
      "cell_type": "markdown",
      "metadata": {
        "id": "aheaRzVE6fs1",
        "colab_type": "text"
      },
      "source": [
        "## -- Setup --"
      ]
    },
    {
      "cell_type": "markdown",
      "metadata": {
        "id": "gixU6_gv678n",
        "colab_type": "text"
      },
      "source": [
        "### Google Drive"
      ]
    },
    {
      "cell_type": "code",
      "metadata": {
        "id": "auXx45x70Qcs",
        "colab_type": "code",
        "outputId": "b19f786a-d154-465a-f244-32deddb21381",
        "colab": {
          "base_uri": "https://localhost:8080/",
          "height": 236
        }
      },
      "source": [
        "## File link to Google Drive\n",
        "\n",
        "######\n",
        "##  WARNING: This is convienent but a rather bad idea from a security point of view. Mounting your\n",
        "##           Google Drive in this way makes your entire drive accessible read/write and then you\n",
        "##           are likely to run code from libraries that could be untrustable.\n",
        "##           Possible alternatives would be to use read only file sharing links or if you want\n",
        "##           read/write access (to allow file output for example) I would recommend creating a\n",
        "##           special Google Drive account that only has files related to your Colab work.\n",
        "######\n",
        "\n",
        "if kernel == 'Colab':\n",
        "    from google.colab import drive\n",
        "    drive.mount(f\"{basedir}/gdrive\", force_remount=False)   # true to reread drive\n",
        "\n",
        "    ## The file paths below will need to be adjusted and some folders/files will need to be \n",
        "    #  created on your gDrive to make the below mappings work.\n",
        "\n",
        "    # this is a link to a team shared google folder (if needed)\n",
        "    if False:\n",
        "        if Path(f\"{basedir}/{projdir}\").is_symlink():\n",
        "            ! rm \"{basedir}/{projdir}\"\n",
        "        ! ln -s \"{basedir}/gdrive/My Drive/{projdir}/\" \"{basedir}/{projdir}\"\n",
        "        if not Path(f\"{basedir}/{projdir}\").exists():\n",
        "            raise ExecutionStop(\"Symlink to shared project directory not found!\")\n",
        "\n",
        "    ## If you do not want to use the lib directoy from your Google Drive set this block False\n",
        "    if True:\n",
        "        if Path(libdir).is_symlink():\n",
        "            ! rm \"{libdir}\"\n",
        "        ! ln -s \"{basedir}/gdrive/My Drive/Colab/{projdir}/{notebook}/lib{nbver}/\" \"{libdir}\"\n",
        "        if not Path(libdir).exists():\n",
        "            raise ExecutionStop(\"Project libdir directory not found!\")\n",
        "\n",
        "    ## If you do not want output to be written to your Google Drive set this block False\n",
        "    if True:\n",
        "        if Path(outdir).is_symlink():\n",
        "            ! rm \"{outdir}\"\n",
        "        ! ln -s \"{basedir}/gdrive/My Drive/Colab/{projdir}/{notebook}/output{nbver}/\" \"{outdir}\"\n",
        "        if not Path(outdir).exists():\n",
        "            raise ExecutionStop(\"Project outdir directory not found!\")\n",
        "\n",
        "    ## If you want to use data from gDrive set to True, if False this will download data\n",
        "    #  To increase performance we are copying the data to locations on the VM\n",
        "    #  Adjust file names/locations as needed for your project\n",
        "    if False:\n",
        "        altdatasrc = f\"{basedir}/gdrive/My Drive/Colab/{projdir}/data\"\n",
        "        if not Path(f\"{altdatasrc}/compdata.flag\").exists():\n",
        "            if not Path(f\"{datadir}/compdata.flag\").exists():      ## Don't do anything if flag exists\n",
        "                print(\"\\nGetting Competition Data From Google Drive\")\n",
        "                ! [ -d \"{datadir}/{competition}\" ] || mkdir -p \"{datadir}/{competition}\"\n",
        "                ! cp \"{altdatasrc}/{competition}/sample_submission.csv\" \"{datadir}/{competition}/\"\n",
        "                ! cp \"{altdatasrc}/{competition}/simplified-nq-train.jsonl\" \"{datadir}/{competition}\"\n",
        "                ! cp \"{altdatasrc}/{competition}/simplified-nq-test.jsonl\" \"{datadir}/{competition}\"\n",
        "                ! cp \"{altdatasrc}/{competition}\"/*.tfrecords \"{datadir}/{competition}\"\n",
        "                ! touch \"{datadir}/compdata.flag\"\n",
        "                train_file = f\"{datadir}/{competition}/simplified-nq-train.jsonl\"\n",
        "                test_file = f\"{datadir}/{competition}/simplified-nq-test.jsonl\"\n",
        "        else:\n",
        "            raise ExecutionStop(\"Could not find compdata on Google Drive!\")\n",
        "\n",
        "        if not Path(f\"{altdatasrc}/bertfiles.flag\").exists():\n",
        "            if not Path(f\"{datadir}/bertfiles.flag\").exists():      ## Don't do anything if flag exists\n",
        "                print(\"Getting BERTjoint Model From Google Drive\")\n",
        "                ! [ -d \"{datadir}/bert-joint-baseline\" ] || mkdir -p \"{datadir}/bert-joint-baseline\"\n",
        "                ! cp \"{altdatasrc}/bert-joint-baseline\"/* \"{datadir}/bert-joint-baseline/\"\n",
        "                ! touch \"{datadir}/bertfiles.flag\"\n",
        "        else:\n",
        "            pass        # Getting bert data from Google is optional, it can be got later\n",
        "\n",
        "    if verbose:\n",
        "        print('\\n', basedir)\n",
        "        ! ls -lh \"{basedir}\""
      ],
      "execution_count": 6,
      "outputs": [
        {
          "output_type": "stream",
          "text": [
            "Go to this URL in a browser: https://accounts.google.com/o/oauth2/auth?client_id=947318989803-6bn6qk8qdgf4n4g3pfee6491hc0brc4i.apps.googleusercontent.com&redirect_uri=urn%3aietf%3awg%3aoauth%3a2.0%3aoob&response_type=code&scope=email%20https%3a%2f%2fwww.googleapis.com%2fauth%2fdocs.test%20https%3a%2f%2fwww.googleapis.com%2fauth%2fdrive%20https%3a%2f%2fwww.googleapis.com%2fauth%2fdrive.photos.readonly%20https%3a%2f%2fwww.googleapis.com%2fauth%2fpeopleapi.readonly\n",
            "\n",
            "Enter your authorization code:\n",
            "··········\n",
            "Mounted at /content/gdrive\n",
            "\n",
            " /content\n",
            "total 12K\n",
            "drwx------ 4 root root 4.0K Jan 16 12:58 gdrive\n",
            "lrwxrwxrwx 1 root root   58 Jan 16 12:58 lib -> '/content/gdrive/My Drive/Colab/projdir/GettingStarted/lib/'\n",
            "lrwxrwxrwx 1 root root   61 Jan 16 12:58 output -> '/content/gdrive/My Drive/Colab/projdir/GettingStarted/output/'\n",
            "drwxr-xr-x 1 root root 4.0K Jan 13 16:38 sample_data\n"
          ],
          "name": "stdout"
        }
      ]
    },
    {
      "cell_type": "markdown",
      "metadata": {
        "id": "fvKSjUFEVJ6i",
        "colab_type": "text"
      },
      "source": [
        "### SMS Messaging\n",
        "<Details>You will need an account with http://twillio.com for this to work and have copied your auth API token tnto a file on your google drive.<p>\n",
        "You will also need a json file with the following config information:<p>\n",
        "```\n",
        "{\n",
        "\"account_sid\":\"{your account_sid}\",\n",
        "\"auth_token\":\"{your auth_token}\",\n",
        "\"send_to\":\"+1{delivery number}\",\n",
        "\"send_from\":\"+1{your twilio number}\"\n",
        "}\n",
        "```\n",
        "</Details>"
      ]
    },
    {
      "cell_type": "code",
      "metadata": {
        "id": "JbdR3jpaVdVY",
        "colab_type": "code",
        "colab": {}
      },
      "source": [
        "if EnableSMSMessages and kernel == 'Colab':\n",
        "    ! pip3 install twilio > /dev/null\n",
        "    from twilio.rest import Client as TC\n",
        "    import json\n",
        "    twil_file = f\"{basedir}/gdrive/My Drive/Colab/twilio.json\" \n",
        "    if Path(twil_file).exists():\n",
        "        # if there is a twilio.json file in gdrive use it\n",
        "        with open(twil_file, 'r') as f:\n",
        "            twil_auth = json.load(f)\n",
        "\n",
        "        account_sid = twil_auth[\"account_sid\"]\n",
        "        auth_token  = twil_auth[\"auth_token\"]\n",
        "\n",
        "        sms = TC(account_sid, auth_token)\n",
        "    else:\n",
        "        sms = None\n",
        "else:\n",
        "    sms = None\n",
        "\n",
        "def sms_message(str_msg):\n",
        "    ''' Sends messages through sms gateway to notify user of alerts.\n",
        "        If not enabled calls to sms_message() will silently do nothing.\n",
        "        For this to work you need an account at https://www.twilio.com/\n",
        "        Config through a twilio.json file (called above) that must contains\n",
        "        {account_sid, auth_token, send_to, send_from}\n",
        "    '''\n",
        "    if sms is not None:\n",
        "        message = sms.messages.create(\n",
        "            to=twil_auth['send_to'], \n",
        "            from_=twil_auth['send_from'],\n",
        "            body=str_msg)\n",
        "        if message.error_message is not None:\n",
        "            print(f\"\\nSMS Error: {message.error_message}\")\n",
        "\n",
        "sms_message(\"Twilio SMS gateway from Colab enabled\")"
      ],
      "execution_count": 0,
      "outputs": []
    },
    {
      "cell_type": "markdown",
      "metadata": {
        "id": "Q8BLJAW95ih-",
        "colab_type": "text"
      },
      "source": [
        "### Kaggle API\n",
        "<Details>You will need Kaggle API token to link the Colab instance to your Kaggle account to get data, etc.<br>\n",
        "Go to: https://www.kaggle.com/yourID/account and click on the \"Create New API Token: button to get a file named kaggle.json.<p>You can put your kaggle.json file in your google drive at My Drive/colab/kaggle.json.<br>\n",
        "Alternately, you can store it on your local machine and the script will ask you to upload it.</Details>"
      ]
    },
    {
      "cell_type": "code",
      "metadata": {
        "id": "lc3IYPUg17c8",
        "colab_type": "code",
        "outputId": "407b9770-ef82-4ef6-dca2-69979a049a3e",
        "colab": {
          "base_uri": "https://localhost:8080/",
          "height": 33
        }
      },
      "source": [
        "## Link to Kaggle\n",
        "if kernel == 'Colab':\n",
        "    from google.colab import files\n",
        "    if Path(f\"{basedir}/gdrive/My Drive/Colab/kaggle.json\").exists():\n",
        "        # if there is a kaggle.json file in gdrive use it\n",
        "        os.environ['KAGGLE_CONFIG_DIR'] = f\"{basedir}/gdrive/My Drive/Colab/\"\n",
        "        ! ls -lh \"{basedir}/gdrive/My Drive/Colab/kaggle.json\"\n",
        "    else:\n",
        "        # Have user upload file\n",
        "        print('Upload kaggle.json.')\n",
        "        # The files.upload() command is failing sporatically with:\n",
        "        #   TypeError: Cannot read property '_uploadFiles' of undefined (just run this cell again)\n",
        "        ! rm \"{basedir}/kaggle.json\"  2> /dev/null\n",
        "        files.upload()\n",
        "        ! chmod 600 kaggle.json\n",
        "        os.environ['KAGGLE_CONFIG_DIR'] = f\"{basedir}/\"\n",
        "        ! ls -lh \"{basedir}/kaggle.json\"\n",
        "    # import kaggle                           # gives us access to kaggle.api\n",
        "    # help(kaggle)"
      ],
      "execution_count": 8,
      "outputs": [
        {
          "output_type": "stream",
          "text": [
            "-rw------- 1 root root 66 Dec 15 08:31 '/content/gdrive/My Drive/Colab/kaggle.json'\n"
          ],
          "name": "stdout"
        }
      ]
    },
    {
      "cell_type": "markdown",
      "metadata": {
        "id": "M0k60Je4YEQa",
        "colab_type": "text"
      },
      "source": [
        "## -- Main System Config --\n",
        "<Details><Summary>Global Config</Summary>\n",
        "Put any global system configuration here"
      ]
    },
    {
      "cell_type": "code",
      "metadata": {
        "id": "72Ermuc261_x",
        "colab_type": "code",
        "colab": {}
      },
      "source": [
        "if kernel == \"Colab\":\n",
        "    if Path(f\"{basedir}/sample_data\").exists():\n",
        "        ! rm -rf \"{basedir}/sample_data\""
      ],
      "execution_count": 0,
      "outputs": []
    },
    {
      "cell_type": "code",
      "metadata": {
        "id": "JNKoTizrh9RG",
        "colab_type": "code",
        "colab": {}
      },
      "source": [
        "%%bash -s \"{libdir}\" \"{datadir}\" \"{outdir}\"\n",
        "# make directories if not already exist\n",
        "[ -d \"$1\" ] || mkdir -p \"$1\"        # {libdir}\n",
        "[ -d \"$2\" ] || mkdir -p \"$2\"        # {datadir}\n",
        "[ -d \"$3\" ] || mkdir -p \"$3\"        # {outdir}"
      ],
      "execution_count": 0,
      "outputs": []
    },
    {
      "cell_type": "code",
      "metadata": {
        "id": "UdjitRnQynwk",
        "colab_type": "code",
        "colab": {}
      },
      "source": [
        "import sys, os\n",
        "if not libdir in sys.path:                       # don't add multiple times\n",
        "    sys.path.append(libdir)\n",
        "if not (libdir in os.environ['PYTHONPATH']):     # needed to run python scripts from shell\n",
        "    os.environ['PYTHONPATH'] += f\":{libdir}\""
      ],
      "execution_count": 0,
      "outputs": []
    },
    {
      "cell_type": "code",
      "metadata": {
        "colab_type": "code",
        "id": "Pq9DBlECVVvY",
        "outputId": "adee6205-d32b-416e-bc00-2c409fa069b2",
        "colab": {
          "base_uri": "https://localhost:8080/",
          "height": 416
        }
      },
      "source": [
        "if verbose:\n",
        "    !pwd\n",
        "    !ls -lh\n",
        "    print('', \"sys.path:\", *sys.path, '', sep='\\n')\n",
        "    !printenv |grep -E 'KAGGLE|PYTHON'\n",
        "    print()\n",
        "! zdump PST"
      ],
      "execution_count": 12,
      "outputs": [
        {
          "output_type": "stream",
          "text": [
            "/content\n",
            "total 12K\n",
            "drwxr-xr-x 2 root root 4.0K Jan 16 12:59 data\n",
            "drwx------ 4 root root 4.0K Jan 16 12:58 gdrive\n",
            "lrwxrwxrwx 1 root root   58 Jan 16 12:58 lib -> '/content/gdrive/My Drive/Colab/projdir/GettingStarted/lib/'\n",
            "lrwxrwxrwx 1 root root   61 Jan 16 12:58 output -> '/content/gdrive/My Drive/Colab/projdir/GettingStarted/output/'\n",
            "\n",
            "sys.path:\n",
            "\n",
            "/env/python\n",
            "/usr/lib/python36.zip\n",
            "/usr/lib/python3.6\n",
            "/usr/lib/python3.6/lib-dynload\n",
            "/usr/local/lib/python3.6/dist-packages\n",
            "/usr/lib/python3/dist-packages\n",
            "/usr/local/lib/python3.6/dist-packages/IPython/extensions\n",
            "/root/.ipython\n",
            "/content/lib\n",
            "\n",
            "KAGGLE_CONFIG_DIR=/content/gdrive/My Drive/Colab/\n",
            "PYTHONWARNINGS=ignore:::pip._internal.cli.base_command\n",
            "PYTHONPATH=/env/python:/content/lib\n",
            "\n",
            "PST  Thu Jan 16 12:59:14 2020 PST\n"
          ],
          "name": "stdout"
        }
      ]
    },
    {
      "cell_type": "markdown",
      "metadata": {
        "id": "javRwDS6zhOC",
        "colab_type": "text"
      },
      "source": [
        "# =========== Project Specific Setup ==========="
      ]
    },
    {
      "cell_type": "markdown",
      "metadata": {
        "id": "gAqCNh4y8DJz",
        "colab_type": "text"
      },
      "source": [
        "### Download Dataset and Support Files"
      ]
    },
    {
      "cell_type": "markdown",
      "metadata": {
        "id": "cGGM0EVmM24H",
        "colab_type": "text"
      },
      "source": [
        "Kaggle Competition Files<br>\n",
        "Here is an example of downlaoding and unpacking competition data. If the competition set has different files you will need to adjust."
      ]
    },
    {
      "cell_type": "code",
      "metadata": {
        "colab_type": "code",
        "id": "5XcpPkyLBzaA",
        "outputId": "319ad18e-860c-4be3-ecfb-79efcf0df04e",
        "colab": {
          "base_uri": "https://localhost:8080/",
          "height": 150
        }
      },
      "source": [
        "## Competition Dataset  (5GB zipped)\n",
        "if DownloadBigFiles and kernel == 'Colab':\n",
        "    if not Path(f\"{datadir}/compdata.flag\").exists():      ## Don't download again if exists\n",
        "        ## comp data might exist from previous run or because you copied it from gDrive\n",
        "        #  Adjust file names as needed\n",
        "        print(\"Downloading Competition Data\\n\")\n",
        "        ! kaggle competitions download -c \"{competition}\" -p \"{datadir}\"\n",
        "        ! mkdir -p \"{datadir}/{competition}/\"\n",
        "        ! mv \"{datadir}/sample_submission.csv\"  \"{datadir}/{competition}\"\n",
        "        ! unzip \"{datadir}/simplified-nq-train.jsonl.zip\" -d \"{datadir}/{competition}\"\n",
        "        ! rm \"{datadir}/simplified-nq-train.jsonl.zip\"\n",
        "        ! unzip \"{datadir}/simplified-nq-test.jsonl.zip\" -d \"{datadir}/{competition}\"\n",
        "        ! rm \"{datadir}/simplified-nq-test.jsonl.zip\"\n",
        "        ! touch \"{datadir}/compdata.flag\"\n",
        "    else:\n",
        "        print(\"Competition Data already exists. Not downloading.\\n\")\n",
        "        !ls -lh \"{datadir}/{competition}\"/*\n",
        "    train_file = f\"{datadir}/{competition}/simplified-nq-train.jsonl\"\n",
        "    test_file = f\"{datadir}/{competition}/simplified-nq-test.jsonl\"\n",
        "else:\n",
        "    print(\"For Kaggle, make sure you download a copy of the competition data into your kernel\")\n",
        "    ! ls -lh \"{datadir}/{competition}\"/*\n",
        "    train_file = f\"{datadir}/{competition}/simplified-nq-train.jsonl\"\n",
        "    test_file = f\"{datadir}/{competition}/simplified-nq-test.jsonl\"\n",
        "\n",
        "    # public_dataset = os.path.getsize(f\"{test_file}\") < 20_000_000\n",
        "    # private_dataset = os.path.getsize(f\"{test_file}\") >= 20_000_000"
      ],
      "execution_count": 13,
      "outputs": [
        {
          "output_type": "stream",
          "text": [
            "Downloading Competition Data\n",
            "\n",
            "404 - Not Found\n",
            "mv: cannot stat '/content/data/sample_submission.csv': No such file or directory\n",
            "unzip:  cannot find or open /content/data/simplified-nq-train.jsonl.zip, /content/data/simplified-nq-train.jsonl.zip.zip or /content/data/simplified-nq-train.jsonl.zip.ZIP.\n",
            "rm: cannot remove '/content/data/simplified-nq-train.jsonl.zip': No such file or directory\n",
            "unzip:  cannot find or open /content/data/simplified-nq-test.jsonl.zip, /content/data/simplified-nq-test.jsonl.zip.zip or /content/data/simplified-nq-test.jsonl.zip.ZIP.\n",
            "rm: cannot remove '/content/data/simplified-nq-test.jsonl.zip': No such file or directory\n"
          ],
          "name": "stdout"
        }
      ]
    },
    {
      "cell_type": "markdown",
      "metadata": {
        "id": "oZhNV3PJHOEL",
        "colab_type": "text"
      },
      "source": [
        "Additional Data Files<br>\n",
        "Here is an example of downlaoding and unpacking additional data files."
      ]
    },
    {
      "cell_type": "code",
      "metadata": {
        "id": "s207mPqAHDVw",
        "colab_type": "code",
        "outputId": "58860878-8aea-4433-bf73-3585a7ca02da",
        "colab": {
          "base_uri": "https://localhost:8080/",
          "height": 333
        }
      },
      "source": [
        "## Get BERTjoint model files (this a copy of the prokaj file from my Google Drive)\n",
        "#  You will need to adjust file names and paths to get any required files for your project\n",
        "if DownloadBigFiles and kernel == 'Colab':\n",
        "    if not Path(f\"{datadir}/bertfiles.flag\").exists():      ## Don't download again if exists\n",
        "        print(\"Downloading BERT-joint Model\\n\")\n",
        "        ! mkdir -p \"{datadir}/bert-joint-baseline/\"\n",
        "        filestoget = \"bert_config* model_cpkt* nq-test* vocab*\"\n",
        "        ! kaggle datasets download -d prokaj/bert-joint-baseline -p \"{datadir}\"\n",
        "        ! unzip \"{datadir}/bert-joint-baseline.zip\" {filestoget} -d \"{datadir}/bert-joint-baseline/\"\n",
        "        ! rm \"{datadir}/bert-joint-baseline.zip\"\n",
        "        if Path(f\"{datadir}/bert-joint-baseline-output.npz\").exists():\n",
        "            ! rm \"{datadir}/bert-joint-baseline-output.npz\" # if kaggle downloaded this delete it\n",
        "        if verbose:\n",
        "            ! ls -lh \"{datadir}/bert-joint-baseline/\"\n",
        "        ! touch \"{datadir}/bertfiles.flag\"\n",
        "    else:\n",
        "        print(\"BERT-joint Files already exists. Not downloading.\\n\")\n",
        "        ! ls -lh \"{datadir}/bert-joint-baseline/\"\n",
        "else:\n",
        "    print(\"For Kaggle, make sure you download a copy of prokaj's bert-joint-baseline to your kernel\")\n",
        "    ! ls -lh \"{datadir}/bert-joint-baseline/\""
      ],
      "execution_count": 14,
      "outputs": [
        {
          "output_type": "stream",
          "text": [
            "Downloading BERT-joint Model\n",
            "\n",
            "Downloading bert-joint-baseline.zip to /content/data\n",
            " 98% 1.51G/1.53G [00:36<00:00, 41.5MB/s]\n",
            "100% 1.53G/1.53G [00:36<00:00, 45.0MB/s]\n",
            "Archive:  /content/data/bert-joint-baseline.zip\n",
            "  inflating: /content/data/bert-joint-baseline/bert_config.json  \n",
            "  inflating: /content/data/bert-joint-baseline/model_cpkt-1.data-00000-of-00002  \n",
            "  inflating: /content/data/bert-joint-baseline/model_cpkt-1.data-00001-of-00002  \n",
            "  inflating: /content/data/bert-joint-baseline/model_cpkt-1.index  \n",
            "  inflating: /content/data/bert-joint-baseline/nq-test.tfrecords  \n",
            "  inflating: /content/data/bert-joint-baseline/vocab-nq.txt  \n",
            "total 1.3G\n",
            "-rw-r--r-- 1 root root  314 Nov 17 15:02 bert_config.json\n",
            "-rw-r--r-- 1 root root  78K Nov 17 15:02 model_cpkt-1.data-00000-of-00002\n",
            "-rw-r--r-- 1 root root 1.3G Nov 17 15:02 model_cpkt-1.data-00001-of-00002\n",
            "-rw-r--r-- 1 root root  29K Nov 17 15:05 model_cpkt-1.index\n",
            "-rw-r--r-- 1 root root  30M Nov 17 15:05 nq-test.tfrecords\n",
            "-rw-r--r-- 1 root root 227K Nov 17 15:06 vocab-nq.txt\n"
          ],
          "name": "stdout"
        }
      ]
    },
    {
      "cell_type": "markdown",
      "metadata": {
        "colab_type": "text",
        "id": "bNPxSmhMJC5c"
      },
      "source": [
        "### Library Setup"
      ]
    },
    {
      "cell_type": "markdown",
      "metadata": {
        "colab_type": "text",
        "id": "T1jkYjB4XsDk"
      },
      "source": [
        "Custom libraries are uploaded to google Drive and symlinked if on Colab and zipped and<br>\n",
        "uploaded to a dataset if on Kaggle."
      ]
    },
    {
      "cell_type": "code",
      "metadata": {
        "id": "yr69yF8fepTA",
        "colab_type": "code",
        "cellView": "both",
        "outputId": "bb241a98-a736-4d6c-8139-5ec8e88ff185",
        "colab": {
          "base_uri": "https://localhost:8080/",
          "height": 50
        }
      },
      "source": [
        "# if you need to move/copy any lib files to final locations do it here\n",
        "if kernel == 'Colab':\n",
        "    pass\n",
        "if kernel == 'Kaggle':\n",
        "    pass\n",
        "\n",
        "if verbose:\n",
        "    print(f\"{libdir}/\")\n",
        "    ! ls -lh \"{libdir}\"/*"
      ],
      "execution_count": 15,
      "outputs": [
        {
          "output_type": "stream",
          "text": [
            "/content/lib/\n",
            "ls: cannot access '/content/lib/*': No such file or directory\n"
          ],
          "name": "stdout"
        }
      ]
    },
    {
      "cell_type": "code",
      "metadata": {
        "id": "qhpBRp11R0jv",
        "colab_type": "code",
        "outputId": "726b692c-e9d1-4415-db20-326b1c492288",
        "colab": {
          "base_uri": "https://localhost:8080/",
          "height": 50
        }
      },
      "source": [
        "## Load Libraries\n",
        "import os, sys, importlib\n",
        "from pprint import pprint\n",
        "\n",
        "if kernel == \"Colab\":               # Kaggle is V2 by default\n",
        "    #magic to make Colab path to Tensorflow V2 on Colab\n",
        "    %tensorflow_version 2.x \n",
        "\n",
        "import tensorflow as tf\n",
        "from tensorflow import keras as tk\n",
        "from tensorflow.keras import layers as tkl\n",
        "print(\"TensofFlow\", tf.__version__)\n",
        "\n",
        "import numpy as np\n",
        "import pandas as pd\n",
        "import collections\n",
        "import json"
      ],
      "execution_count": 16,
      "outputs": [
        {
          "output_type": "stream",
          "text": [
            "TensorFlow 2.x selected.\n",
            "TensofFlow 2.1.0-rc1\n"
          ],
          "name": "stdout"
        }
      ]
    },
    {
      "cell_type": "code",
      "metadata": {
        "id": "yJC4o-hkuIfO",
        "colab_type": "code",
        "outputId": "bbcf0cd8-4748-4b40-8404-c4501236f1ca",
        "colab": {
          "base_uri": "https://localhost:8080/",
          "height": 400
        }
      },
      "source": [
        "! zdump PST\n",
        "if verbose:\n",
        "    list_files(basedir)"
      ],
      "execution_count": 17,
      "outputs": [
        {
          "output_type": "stream",
          "text": [
            "PST  Thu Jan 16 13:00:42 2020 PST\n",
            "content/\n",
            "    data/\n",
            "        compdata.flag\n",
            "        bertfiles.flag\n",
            "        kaggle-competition_data/\n",
            "        bert-joint-baseline/\n",
            "            bert_config.json\n",
            "            model_cpkt-1.data-00000-of-00002\n",
            "            nq-test.tfrecords\n",
            "            model_cpkt-1.data-00001-of-00002\n",
            "            vocab-nq.txt\n",
            "            model_cpkt-1.index\n",
            "    lib/\n",
            "    output/\n",
            "        main_model_1.h5\n",
            "        main_model_2.h5\n",
            "        main_model_4.h5\n",
            "        main_model.h5\n",
            "        model_checkpoint.data-00001-of-00002\n",
            "        model_checkpoint.data-00000-of-00002\n",
            "        model_checkpoint.index\n",
            "        checkpoint\n"
          ],
          "name": "stdout"
        }
      ]
    },
    {
      "cell_type": "code",
      "metadata": {
        "id": "s7niWvRW-R5C",
        "colab_type": "code",
        "colab": {}
      },
      "source": [
        "# raise ExecutionStop(\"Execution stopped\")"
      ],
      "execution_count": 0,
      "outputs": []
    },
    {
      "cell_type": "markdown",
      "metadata": {
        "id": "l1FG1uHaqwIz",
        "colab_type": "text"
      },
      "source": [
        "# =========== Project Code ==========="
      ]
    },
    {
      "cell_type": "markdown",
      "metadata": {
        "id": "TNsu4BSzU3ZS",
        "colab_type": "text"
      },
      "source": [
        "Note: The Keras code here is not tuned or intended to create correct predictions.<br>\n",
        "It is just here to show the steps and syntax of a sample program."
      ]
    },
    {
      "cell_type": "markdown",
      "metadata": {
        "id": "mLlkPPayNOi_",
        "colab_type": "text"
      },
      "source": [
        "## -- Load Data --"
      ]
    },
    {
      "cell_type": "markdown",
      "metadata": {
        "id": "bh16gCUI3pis",
        "colab_type": "text"
      },
      "source": [
        "Data can be delivered in a numpy array. In TF2, tf.data provides for loading and preprocesing data<br>\n",
        "in a way that is fast and scalable. see: https://www.tensorflow.org/guide/data  <font color='red'>\\<--Read This</font>"
      ]
    },
    {
      "cell_type": "markdown",
      "metadata": {
        "id": "5OGmnaKMh5Tm",
        "colab_type": "text"
      },
      "source": [
        "<Details><Summary>Data Label Description</Summary>\n",
        "<blockquote>\n",
        "            0\tT-shirt/top<br>\n",
        "            1\tTrouser<br>\n",
        "            2\tPullover<br>\n",
        "            3\tDress<br>\n",
        "            4\tCoat<br>\n",
        "            5\tSandal<br>\n",
        "            6\tShirt<br>\n",
        "            7\tSneaker<br>\n",
        "            8\tBag<br>\n",
        "            9\tAnkle boot<br>\n",
        "</blockquote>\n",
        "</Details>"
      ]
    },
    {
      "cell_type": "code",
      "metadata": {
        "id": "4o4qFt1QIfEi",
        "colab_type": "code",
        "outputId": "16c986b8-b566-4534-896e-e92a76b36188",
        "colab": {
          "base_uri": "https://localhost:8080/",
          "height": 50
        }
      },
      "source": [
        "## if your dataset is small and fits into memory you should use Numpy arrays or tf.data Datasets\n",
        "(X_train, y_train), (X_test, y_test) = tk.datasets.mnist.load_data()\n",
        "\n",
        "## Preprocess the data\n",
        "X_train = X_train.reshape(60000, 784).astype('float32') / 255\n",
        "X_test = X_test.reshape(10000, 784).astype('float32') / 255\n",
        "\n",
        "y_train = y_train.astype('float32')\n",
        "y_test = y_test.astype('float32')\n",
        "\n",
        "## You can tell fit to reserve a percentage of training data for validation or provide explicit \n",
        "#  validation data. If you use validation_split fit will take that percentage off the end of\n",
        "#  training data before shuffling it.\n",
        "X_val = X_train[-10000:]\n",
        "y_val = y_train[-10000:]\n",
        "X_train = X_train[:-10000]\n",
        "y_train = y_train[:-10000]\n"
      ],
      "execution_count": 19,
      "outputs": [
        {
          "output_type": "stream",
          "text": [
            "Downloading data from https://storage.googleapis.com/tensorflow/tf-keras-datasets/mnist.npz\n",
            "11493376/11490434 [==============================] - 0s 0us/step\n"
          ],
          "name": "stdout"
        }
      ]
    },
    {
      "cell_type": "markdown",
      "metadata": {
        "id": "cGtTcPP3NTws",
        "colab_type": "text"
      },
      "source": [
        "# -- Define Model --"
      ]
    },
    {
      "cell_type": "code",
      "metadata": {
        "id": "PrYNxFunNbUM",
        "colab_type": "code",
        "outputId": "15e084fc-b139-4657-dec8-c0649b9193c6",
        "colab": {
          "base_uri": "https://localhost:8080/",
          "height": 705
        }
      },
      "source": [
        "tk.backend.clear_session()     ## Reset Notebook\n",
        "\n",
        "## Define Layers\n",
        "inputs_1 = tk.Input(shape=(784,), name='digits')\n",
        "dense_1 = tkl.Dense(64, activation='relu', name='dense_1')(inputs_1)\n",
        "dense_2 = tkl.Dense(64, activation='relu', name='dense_2')(dense_1)\n",
        "outputs_1 = tkl.Dense(10, activation='softmax', name='predictions')(dense_2)\n",
        "\n",
        "## Define Model\n",
        "model = tk.Model(inputs=inputs_1, outputs=outputs_1, name='main_model')\n",
        "\n",
        "## Print informaiton about model\n",
        "model.summary()\n",
        "print()\n",
        "tk.utils.plot_model( model,\n",
        "                     to_file='main_model.png',\n",
        "                     show_shapes=True,\n",
        "                     show_layer_names = True,\n",
        "                     rankdir = 'TB',            # TB creates vertical; LR creates horizontal\n",
        "                     expand_nested = True,     # expand nested models into clusters\n",
        "                     dpi = 96\n",
        "                    )\n",
        "\n",
        "## To evaluate layers\n",
        "# layer.shape\n",
        "# layer.dtype\n"
      ],
      "execution_count": 20,
      "outputs": [
        {
          "output_type": "stream",
          "text": [
            "Model: \"main_model\"\n",
            "_________________________________________________________________\n",
            "Layer (type)                 Output Shape              Param #   \n",
            "=================================================================\n",
            "digits (InputLayer)          [(None, 784)]             0         \n",
            "_________________________________________________________________\n",
            "dense_1 (Dense)              (None, 64)                50240     \n",
            "_________________________________________________________________\n",
            "dense_2 (Dense)              (None, 64)                4160      \n",
            "_________________________________________________________________\n",
            "predictions (Dense)          (None, 10)                650       \n",
            "=================================================================\n",
            "Total params: 55,050\n",
            "Trainable params: 55,050\n",
            "Non-trainable params: 0\n",
            "_________________________________________________________________\n",
            "\n"
          ],
          "name": "stdout"
        },
        {
          "output_type": "execute_result",
          "data": {
            "image/png": "[encoded data removed]",
            "text/plain": [
              "<IPython.core.display.Image object>"
            ]
          },
          "metadata": {
            "tags": []
          },
          "execution_count": 20
        }
      ]
    },
    {
      "cell_type": "markdown",
      "metadata": {
        "id": "7gsFd-W5Nk-J",
        "colab_type": "text"
      },
      "source": [
        "## -- Compile Model --"
      ]
    },
    {
      "cell_type": "markdown",
      "metadata": {
        "id": "2YOhDvfkaW0-",
        "colab_type": "text"
      },
      "source": [
        "<Details><Summary>Optimizer, Loss & Metric values</Summary>\n",
        "Supported optimizers: https://www.tensorflow.org/api_docs/python/tf/keras/optimizers\n",
        " * SGD() with or without momentum\n",
        " * RMSprop()\n",
        " * Adam()\n",
        "\n",
        "Supported loss functions: https://www.tensorflow.org/api_docs/python/tf/keras/losses\n",
        " * binary_crossentropy - binary classification\n",
        " * sparse_categorical_crossentropy - multi-class classification\n",
        " * mean_squared_error -  regression\n",
        " * cosine_similarity\n",
        " * you can define custom loss functions\n",
        "\n",
        "Supported metrics: https://www.tensorflow.org/api_docs/python/tf/keras/metrics\n",
        " * acu\n",
        " * precision\n",
        " * recall\n",
        "\n",
        " </Detail>"
      ]
    },
    {
      "cell_type": "code",
      "metadata": {
        "id": "kc2pY8z9NqO2",
        "colab_type": "code",
        "colab": {}
      },
      "source": [
        "## learning rate can be static, a schedule, or dynamic based on results\n",
        "learing_rate = 1e-3\n",
        "learning_rate = tk.optimizers.schedules.ExponentialDecay(\n",
        "                initial_learning_rate = 0.1,\n",
        "                decay_steps = 100000,\n",
        "                decay_rate = 0.96,\n",
        "                staircase = True\n",
        "               )\n",
        "\n",
        "model.compile( optimizer = tk.optimizers.RMSprop(learning_rate = learning_rate),\n",
        "               loss = 'sparse_categorical_crossentropy',\n",
        "               metrics = ['sparse_categorical_accuracy']\n",
        "              )\n"
      ],
      "execution_count": 0,
      "outputs": []
    },
    {
      "cell_type": "markdown",
      "metadata": {
        "id": "LyY0ilH-NqYo",
        "colab_type": "text"
      },
      "source": [
        "# -- Fit Model -- "
      ]
    },
    {
      "cell_type": "markdown",
      "metadata": {
        "id": "hib3_LS_5vGF",
        "colab_type": "text"
      },
      "source": [
        "When you are training models on relatively large datasets it is crucial to save checkpoints of<br>\n",
        "your model at frequent intervals. The easiest way is to use the ModelCheckpoint callback."
      ]
    },
    {
      "cell_type": "code",
      "metadata": {
        "id": "lTg3Z5cW587M",
        "colab_type": "code",
        "colab": {}
      },
      "source": [
        "callbacks = [\n",
        "    tk.callbacks.ModelCheckpoint(\n",
        "        filepath = f\"{outdir}/\"+'main_model_{epoch}.h5',\n",
        "        monitor = 'val_loss',\n",
        "        save_best_only = True,          # overwrite current only if val_loss has improved\n",
        "        verbose = 1\n",
        "        ),\n",
        "    tk.callbacks.EarlyStopping(         ## Early stopping can prevent overfitting\n",
        "        monitor = 'val_loss',\n",
        "        #min_delta =,                   # change less than this will count as none\n",
        "        patience = 5,                   # number of epochs that produced no improvement\n",
        "        restore_best_weights = True     # go back to best values at end\n",
        "        )\n",
        "           ]"
      ],
      "execution_count": 0,
      "outputs": []
    },
    {
      "cell_type": "markdown",
      "metadata": {
        "id": "WZF_JzPncICo",
        "colab_type": "text"
      },
      "source": [
        "Train the model by slicing the data into \"batches\" of size batch_size, and repeatedly<br>\n",
        "iterating over the entire dataset for a given number of \"epochs\""
      ]
    },
    {
      "cell_type": "code",
      "metadata": {
        "id": "Mto880h3Nu5W",
        "colab_type": "code",
        "outputId": "14d6742f-5bcf-4f6c-c886-d5485780bb69",
        "colab": {
          "base_uri": "https://localhost:8080/",
          "height": 600
        }
      },
      "source": [
        "## you can also pass model.fit() validation_split rather than manually splitting the data set\n",
        "#  input can be a dict if model has named inputs\n",
        "history = model.fit( X_train,               # array/list of arrays (if model has multiple inputs)\n",
        "                     y_train,               # array/list of arrays (if model has multiple outputs)\n",
        "                     batch_size = 64,       # defaults to 32\n",
        "                     epochs = 5,\n",
        "                     shuffle = True,        # shuffles before each epoch\n",
        "                     # validation_split = 0.2,      # only works with numpy data\n",
        "                     validation_data = (X_val, y_val),\n",
        "                     validation_freq = 1,   # how many training epochs to run between validations\n",
        "                     callbacks = callbacks, # None or list of callbacks to apply\n",
        "                     # class_weight         # pay more attention to underrepresented classes\n",
        "                     # use_multiprocessing = False,\n",
        "                     # workers = 1,\n",
        "                     # max_queue_size       # used if input data is a sequence or generator\n",
        "                     verbose = 2            # 0 = off; 1 = progress bar; 2 = one line per epoch\n",
        "                    )\n",
        "\n",
        "print('\\nHistory Dict:')\n",
        "pprint(history.history)\n"
      ],
      "execution_count": 23,
      "outputs": [
        {
          "output_type": "stream",
          "text": [
            "Train on 50000 samples, validate on 10000 samples\n",
            "Epoch 1/5\n",
            "\n",
            "Epoch 00001: val_loss improved from inf to 1.80893, saving model to /content/output/main_model_1.h5\n",
            "50000/50000 - 5s - loss: 2.5223 - sparse_categorical_accuracy: 0.3260 - val_loss: 1.8089 - val_sparse_categorical_accuracy: 0.2818\n",
            "Epoch 2/5\n",
            "\n",
            "Epoch 00002: val_loss did not improve from 1.80893\n",
            "50000/50000 - 2s - loss: 1.9050 - sparse_categorical_accuracy: 0.2859 - val_loss: 1.8354 - val_sparse_categorical_accuracy: 0.2169\n",
            "Epoch 3/5\n",
            "\n",
            "Epoch 00003: val_loss did not improve from 1.80893\n",
            "50000/50000 - 2s - loss: 1.7522 - sparse_categorical_accuracy: 0.3254 - val_loss: 1.8269 - val_sparse_categorical_accuracy: 0.2894\n",
            "Epoch 4/5\n",
            "\n",
            "Epoch 00004: val_loss did not improve from 1.80893\n",
            "50000/50000 - 2s - loss: 1.8806 - sparse_categorical_accuracy: 0.2781 - val_loss: 1.8707 - val_sparse_categorical_accuracy: 0.2781\n",
            "Epoch 5/5\n",
            "\n",
            "Epoch 00005: val_loss did not improve from 1.80893\n",
            "50000/50000 - 2s - loss: 1.8473 - sparse_categorical_accuracy: 0.2864 - val_loss: 1.8248 - val_sparse_categorical_accuracy: 0.2544\n",
            "\n",
            "History Dict:\n",
            "{'loss': [2.5222665607452392,\n",
            "          1.904984670715332,\n",
            "          1.7521971371459961,\n",
            "          1.8806336560058594,\n",
            "          1.8473079159545898],\n",
            " 'sparse_categorical_accuracy': [0.326, 0.28588, 0.32544, 0.27806, 0.28636],\n",
            " 'val_loss': [1.808930484008789,\n",
            "              1.8354361289978027,\n",
            "              1.8268587291717528,\n",
            "              1.8707472305297852,\n",
            "              1.8248434175491333],\n",
            " 'val_sparse_categorical_accuracy': [0.2818, 0.2169, 0.2894, 0.2781, 0.2544]}\n"
          ],
          "name": "stdout"
        }
      ]
    },
    {
      "cell_type": "markdown",
      "metadata": {
        "id": "M3OEeKQpNvCP",
        "colab_type": "text"
      },
      "source": [
        " # -- Evaluate Model --"
      ]
    },
    {
      "cell_type": "code",
      "metadata": {
        "id": "ETSTonO5N37M",
        "colab_type": "code",
        "outputId": "cfa87aa1-f475-41db-8a07-9b3af837955f",
        "colab": {
          "base_uri": "https://localhost:8080/",
          "height": 66
        }
      },
      "source": [
        "loss, accuracy = model.evaluate( X_test,   # array or list of arrays (if model has multiple inputs)\n",
        "                                 y_test,   # array or list of arrays (if model has multiple outputs)\n",
        "                                 batch_size = 128,     # defaults to 32\n",
        "                                 callbacks = None,\n",
        "                                 # use_multiprocessing = False,\n",
        "                                 # workers = 1,\n",
        "                                 verbose = 1   # 0 = off; 1 = progress bar\n",
        "                                )\n",
        "\n",
        "print(f\"Test loss: {loss}\")\n",
        "print(f\"Test accuracy: {accuracy}\")\n"
      ],
      "execution_count": 24,
      "outputs": [
        {
          "output_type": "stream",
          "text": [
            "10000/10000 [==============================] - 0s 18us/sample - loss: 1.8545 - sparse_categorical_accuracy: 0.2547\n",
            "Test loss: 1.8545054027557373\n",
            "Test accuracy: 0.2547000050544739\n"
          ],
          "name": "stdout"
        }
      ]
    },
    {
      "cell_type": "code",
      "metadata": {
        "id": "slhVRKcwf_6I",
        "colab_type": "code",
        "colab": {}
      },
      "source": [
        "## -- Create Checkpoint --"
      ],
      "execution_count": 0,
      "outputs": []
    },
    {
      "cell_type": "markdown",
      "metadata": {
        "id": "4_DtPTMxgDZw",
        "colab_type": "text"
      },
      "source": [
        "Checkpoints capture the exact values of all parameters used by the model.<br>\n",
        "They do not contain any description of the computation defined by the model."
      ]
    },
    {
      "cell_type": "code",
      "metadata": {
        "id": "ksXhlmnUgcOC",
        "colab_type": "code",
        "colab": {}
      },
      "source": [
        "model.save_weights(f\"{outdir}/model_checkpoint\")"
      ],
      "execution_count": 0,
      "outputs": []
    },
    {
      "cell_type": "markdown",
      "metadata": {
        "id": "dS4jlUCdoybB",
        "colab_type": "text"
      },
      "source": [
        "## -- Save Model --"
      ]
    },
    {
      "cell_type": "markdown",
      "metadata": {
        "id": "wVFDzYZe-ajv",
        "colab_type": "text"
      },
      "source": [
        "Saving a whole model (avaialble with simple and functional API models) you can recreate the model<br> later even if you do not have the code that created the model. The file includes: model architecture, model weight values; model training config; the optimizer and its state (if any) so you can restart training where you left off."
      ]
    },
    {
      "cell_type": "code",
      "metadata": {
        "id": "s2HqM4Ufo4IE",
        "colab_type": "code",
        "colab": {}
      },
      "source": [
        "predictions = model.predict(X_test)\n",
        "model.save(f\"{outdir}/model_save.h5\")\n",
        "del model\n",
        "\n",
        "# Recreate the exact same model purely from the save file\n",
        "model = tk.models.load_model(f\"{outdir}/model_save.h5\")\n",
        "new_predictions = model.predict(X_test)\n",
        "\n",
        "# verify that the predictions are the same\n",
        "np.testing.assert_allclose(predictions, new_predictions, rtol=1e-6, atol=1e-5)"
      ],
      "execution_count": 0,
      "outputs": []
    },
    {
      "cell_type": "markdown",
      "metadata": {
        "id": "AFOnD7k9Cjvn",
        "colab_type": "text"
      },
      "source": [
        "Notes on saving other formats: https://www.tensorflow.org/guide/keras/save_and_serialize#export_to_savedmodel"
      ]
    },
    {
      "cell_type": "markdown",
      "metadata": {
        "id": "6Td3M6RzN4Sm",
        "colab_type": "text"
      },
      "source": [
        "# -- Make Predictions --"
      ]
    },
    {
      "cell_type": "code",
      "metadata": {
        "id": "97zE973KN7bE",
        "colab_type": "code",
        "outputId": "ee8fc975-a64f-49f3-bde4-3fe5aa47615b",
        "colab": {
          "base_uri": "https://localhost:8080/",
          "height": 83
        }
      },
      "source": [
        "predictions = model.predict( X_test[:3],            # for now only predict on first 3\n",
        "                             batch_size = 32,       # defaults to 32\n",
        "                             callbacks = None,\n",
        "                             # use_multiprocessing = False,\n",
        "                             # workers = 1,\n",
        "                             verbose = 1            # 0 or 1\n",
        "                            )\n",
        "\n",
        "np.set_printoptions(suppress=True, precision=1)\n",
        "print(predictions)\n"
      ],
      "execution_count": 28,
      "outputs": [
        {
          "output_type": "stream",
          "text": [
            "\r3/3 [==============================] - 0s 873us/sample\n",
            "[[0.  0.  0.  0.  0.  0.  0.  1.  0.  0. ]\n",
            " [0.1 0.  0.2 0.1 0.  0.2 0.2 0.  0.1 0.1]\n",
            " [0.  0.2 0.1 0.  0.2 0.  0.  0.  0.  0.2]]\n"
          ],
          "name": "stdout"
        }
      ]
    },
    {
      "cell_type": "markdown",
      "metadata": {
        "id": "z5BXA2hlwzJ-",
        "colab_type": "text"
      },
      "source": [
        "#&gt;&gt; Deleted to end before submitting to competition &lt;&lt;\n",
        "<Details> This is the end of the project notebook. The rest of this notebook is helpful for<br>\n",
        "development but should not be submitted to competition</Details>"
      ]
    },
    {
      "cell_type": "code",
      "metadata": {
        "id": "6Udo19R6y9LD",
        "colab_type": "code",
        "outputId": "ac36b76f-29e2-426c-bea2-b07f3c07ff53",
        "colab": {
          "base_uri": "https://localhost:8080/",
          "height": 161
        }
      },
      "source": [
        "# Make sure user does not accedentially execute beyond end\n",
        "raise ExecutionStop(\"Stopping execution\")"
      ],
      "execution_count": 29,
      "outputs": [
        {
          "output_type": "error",
          "ename": "ExecutionStop",
          "evalue": "ignored",
          "traceback": [
            "\u001b[0;31m---------------------------------------------------------------------------\u001b[0m",
            "\u001b[0;31mExecutionStop\u001b[0m                             Traceback (most recent call last)",
            "\u001b[0;32m<ipython-input-29-cced5245c4c1>\u001b[0m in \u001b[0;36m<module>\u001b[0;34m()\u001b[0m\n\u001b[0;32m----> 1\u001b[0;31m \u001b[0;32mraise\u001b[0m \u001b[0mExecutionStop\u001b[0m\u001b[0;34m(\u001b[0m\u001b[0;34m\"Stopping execution\"\u001b[0m\u001b[0;34m)\u001b[0m\u001b[0;34m\u001b[0m\u001b[0;34m\u001b[0m\u001b[0m\n\u001b[0m",
            "\u001b[0;31mExecutionStop\u001b[0m: Stopping execution"
          ]
        }
      ]
    },
    {
      "cell_type": "markdown",
      "metadata": {
        "colab_type": "text",
        "id": "lRKAhZK8yvO_"
      },
      "source": [
        "# ====== Development Support Files (safe to ignore) ====="
      ]
    },
    {
      "cell_type": "markdown",
      "metadata": {
        "colab_type": "text",
        "id": "r_TVSYoeyvPa"
      },
      "source": [
        "### SSH Setup\n",
        "This is only neeeded if you want to log into the Colab machine. Otherwise fold it up and ignore.<br>\n",
        "To use it you have to create a login at https://ngrok.com\n",
        "<Details>Thanks to Imad El Hanafi (https://imadelhanafi.com) for showing me how to do this.<p>\n",
        "You will need to create a free account at https://ngrok.com/ for the SSH tunnel to work.</Details>"
      ]
    },
    {
      "cell_type": "markdown",
      "metadata": {
        "id": "p4xz3goHaB8n",
        "colab_type": "text"
      },
      "source": [
        "File paths are hard coded here because this may be run before program variables are established."
      ]
    },
    {
      "cell_type": "code",
      "metadata": {
        "id": "36OI5-u2u24e",
        "colab_type": "code",
        "colab": {}
      },
      "source": [
        "## if you want to use the Kaggle api from command line you will need a kaggle.json file\n",
        "from pathlib import Path\n",
        "if Path('/content/gdrive/My Drive/Colab/kaggle.json').exists() or \\\n",
        "                                    Path('/content/kaggle.json').exists():\n",
        "    pass    # we found a kaggle.json file\n",
        "else:\n",
        "    # Give user opportunity to upload a kaggle.json file\n",
        "    from google.colab import files\n",
        "    print('Upload kaggle.json if you want the Kaggle API to be availabel in bash.')\n",
        "    # The files.upload() command is failing sporatically with:\n",
        "    #   TypeError: Cannot read property '_uploadFiles' of undefined (just run this cell again)\n",
        "    ! rm \"/content/kaggle.json\"  2> /dev/null\n",
        "    files.upload()"
      ],
      "execution_count": 0,
      "outputs": []
    },
    {
      "cell_type": "code",
      "metadata": {
        "colab_type": "code",
        "id": "Y0NMPj1fyvPb",
        "colab": {}
      },
      "source": [
        "%%bash\n",
        "## Install sshd; Set to allow login and config\n",
        "apt-get install -o=Dpkg::Use-Pty=0 openssh-server pwgen > /dev/null\n",
        "mkdir -p /var/run/sshd\n",
        "echo \"PermitRootLogin yes\" >> /etc/ssh/sshd_config\n",
        "echo \"PasswordAuthentication yes\" >> /etc/ssh/sshd_config\n",
        "\n",
        "# set host key to known value (need to test if exist)\n",
        "gdown -O \"/etc/ssh/ssh_host_rsa_key\" --id 17Vp-rLM0kLVsIqxo7GkV3YXibGCJ7WCR\n",
        "chown 600 \"/etc/ssh/ssh_host_rsa_key\"    # private key will be ignored if not secure\n",
        "gdown -O \"/etc/ssh/ssh_host_rsa_key.pub\" --id 1-5yW1EwMdBN0YlRe7McmwDxzmGyvq-gW\n",
        "# get script to modify login shell to match env of Notebook\n",
        "gdown -O \"/root/init_shell.sh\" --id 1-9s5wuq5TkebgKbFvBYy4EeM8c2Ee0xc\n",
        "\n",
        "# this script will give fix the login shell so Python will work\n",
        "if [ -f \"/root/init_shell.sh\" ]; then\n",
        "    echo \"source /root/init_shell.sh\" >> /root/.bashrc\n",
        "fi"
      ],
      "execution_count": 0,
      "outputs": []
    },
    {
      "cell_type": "code",
      "metadata": {
        "colab_type": "code",
        "id": "S1mmJ__lyvPh",
        "colab": {}
      },
      "source": [
        "## setup ssh user / pass and start sshd\n",
        "\n",
        "#Generate a random root password\n",
        "import random, string\n",
        "sshpass = ''.join(random.choice(string.ascii_letters + string.digits) for i in range(30))\n",
        "\n",
        "#Set root password\n",
        "! echo root:$sshpass | chpasswd\n",
        "\n",
        "#Run sshd\n",
        "get_ipython().system_raw('/usr/sbin/sshd -D &')"
      ],
      "execution_count": 0,
      "outputs": []
    },
    {
      "cell_type": "code",
      "metadata": {
        "colab_type": "code",
        "id": "edJ3pW6YyvPl",
        "colab": {}
      },
      "source": [
        "%%bash\n",
        "## Get Ngrok from gdrive or try to download (see: https://ngrok.com/download)\n",
        "if [ -f \"/content/bertqa/colab/ngrok-stable-linux-amd64.zip\" ]; then\n",
        "    cp \"/content/bertqa/colab/ngrok-stable-linux-amd64.zip\" .\n",
        "    echo \"Using ngrok-stable-linux-amd64.zip from gdrive\"\n",
        "else\n",
        "    wget -q -c -nc https://bin.equinox.io/c/4VmDzA7iaHb/ngrok-stable-linux-amd64.zip\n",
        "fi\n",
        "unzip -qq -n ngrok-stable-linux-amd64.zip\n",
        "rm ngrok-stable-linux-amd64.zip"
      ],
      "execution_count": 0,
      "outputs": []
    },
    {
      "cell_type": "code",
      "metadata": {
        "colab_type": "code",
        "id": "YR0N4Iw8yvPq",
        "colab": {}
      },
      "source": [
        "## Get user to enter auth token from ngrok and start tunnel\n",
        "\n",
        "# Get token from ngrok for the tunnel\n",
        "print(\"Get your authtoken from https://dashboard.ngrok.com/auth\")\n",
        "import getpass\n",
        "authtoken = getpass.getpass()\n",
        "\n",
        "#Create tunnel\n",
        "get_ipython().system_raw('./ngrok authtoken $authtoken && ./ngrok tcp 22 &')"
      ],
      "execution_count": 0,
      "outputs": []
    },
    {
      "cell_type": "markdown",
      "metadata": {
        "colab_type": "text",
        "id": "1VjsRvCTyvPt"
      },
      "source": [
        "#### ===============================<br> ||====&nbsp;&nbsp;  SSH Login Credentials &nbsp;&nbsp;====||<br> ==============================="
      ]
    },
    {
      "cell_type": "code",
      "metadata": {
        "colab_type": "code",
        "cellView": "both",
        "id": "WKjt0Wh0yvPv",
        "colab": {}
      },
      "source": [
        "#@title\n",
        "print(\"username: root\")\n",
        "print(\"password: \", sshpass)"
      ],
      "execution_count": 0,
      "outputs": []
    },
    {
      "cell_type": "markdown",
      "metadata": {
        "colab_type": "text",
        "id": "7OlwbxpWyvPz"
      },
      "source": [
        "Get the host name and port number at: https://dashboard.ngrok.com/status\n",
        "\n",
        "```bash\n",
        "ssh root@0.tcp.ngrok.io -p [ngrok_port]\n",
        "Login as: root\n",
        "Servrer refused our key\n",
        "root@0.tcp.ngrok.io's password: [see above]\n",
        "\n",
        "(Colab):/content$\n",
        "```\n"
      ]
    },
    {
      "cell_type": "markdown",
      "metadata": {
        "colab_type": "text",
        "id": "bjJcssgxyvP0"
      },
      "source": [
        "Install programs"
      ]
    },
    {
      "cell_type": "code",
      "metadata": {
        "colab_type": "code",
        "id": "euzlUBHLyvP1",
        "colab": {}
      },
      "source": [
        "%%bash\n",
        "# vim\n",
        "apt-get install vim > /dev/null\n",
        "echo \"set tabstop     =4\" >> ~/.vimrc\n",
        "echo \"set softtabstop =4\" >> ~/.vimrc\n",
        "echo \"set shiftwidth  =4\" >> ~/.vimrc\n",
        "echo \"set expandtab\"      >> ~/.vimrc\n",
        "\n",
        "# js is a JSON processor\n",
        "apt-get install js > /dev/null\n",
        "\n",
        "apt-get install tree > /dev/null\n"
      ],
      "execution_count": 0,
      "outputs": []
    },
    {
      "cell_type": "markdown",
      "metadata": {
        "colab_type": "text",
        "id": "Ugtt5PxzyvP3"
      },
      "source": [
        "If you need to kill Ngrok run this cell"
      ]
    },
    {
      "cell_type": "code",
      "metadata": {
        "colab_type": "code",
        "id": "CiP9qYfgyvP4",
        "colab": {}
      },
      "source": [
        "if False:\n",
        "    !kill $(ps aux | grep './ngrok' | awk '{print $2}')"
      ],
      "execution_count": 0,
      "outputs": []
    },
    {
      "cell_type": "markdown",
      "metadata": {
        "id": "Wz4Gpsh2AGEv",
        "colab_type": "text"
      },
      "source": [
        "Check out your GPU and RAM status"
      ]
    },
    {
      "cell_type": "code",
      "metadata": {
        "id": "ano8h810ADs0",
        "colab_type": "code",
        "colab": {}
      },
      "source": [
        "# memory footprint support libraries/code\n",
        "! ln -sf /opt/bin/nvidia-smi /usr/bin/nvidia-smi\n",
        "! pip install gputil    > /dev/null\n",
        "! pip install psutil    > /dev/null\n",
        "! pip install humanize  > /dev/null\n",
        "import psutil\n",
        "import humanize\n",
        "import os\n",
        "import GPUtil as GPU\n",
        "GPUs = GPU.getGPUs()\n",
        "# XXX: only one GPU on Colab and isn’t guaranteed\n",
        "gpu = GPUs[0]\n",
        "def printm():\n",
        "    process = psutil.Process(os.getpid())\n",
        "    print(\"Gen RAM Free: \" + humanize.naturalsize( psutil.virtual_memory().available ), \" | Proc size: \" + humanize.naturalsize( process.memory_info().rss))\n",
        "    print(\"GPU RAM Free: {0:.0f}MB | Used: {1:.0f}MB | Util {2:3.0f}% | Total {3:.0f}MB\".format(gpu.memoryFree, gpu.memoryUsed, gpu.memoryUtil*100, gpu.memoryTotal))\n",
        "\n",
        "printm() # If your utilization is not 0% you are probably sharing with someone at the moment"
      ],
      "execution_count": 0,
      "outputs": []
    },
    {
      "cell_type": "markdown",
      "metadata": {
        "colab_type": "text",
        "id": "n3MP_pJ5yvP5"
      },
      "source": [
        "## -- Misc Notes --"
      ]
    },
    {
      "cell_type": "markdown",
      "metadata": {
        "colab_type": "text",
        "id": "cm6ErVGkyvP6"
      },
      "source": [
        "### Prevent Disconnects\n",
        "Colab periodically disconnects the browser.<br>\n",
        "You have to save model checkpoints to Google Drive so you don't lose work<br>\n",
        "See: https://mc.ai/google-colab-drive-as-persistent-storage-for-long-training-runs/<br>\n",
        "Something to try...<br>\n",
        "Ctrl+Shift+i in browser and in console run this code...\n",
        "```\n",
        "function KeepAlive(){\n",
        "    console.log(\"Maintaining Connection\");\n",
        "    document.querySelector(\"colab-toolbar-button#connect\").click()\n",
        "}\n",
        "setInterval(KeepAlive,60000);\n",
        "```\n",
        "There have been reports of people having their GPU privileges suspended for letting processes run for over 12 hours. It seems that they may penalize you rather than just cutting you off."
      ]
    },
    {
      "cell_type": "markdown",
      "metadata": {
        "id": "enrv0jdCyzCY",
        "colab_type": "text"
      },
      "source": [
        "### Monitor GPU\n",
        "```\n",
        "# From cli I think to monitor GPU while fiting\n",
        "$ nvidia-smi dmon\n",
        "$ nvidia-smi pmon\n",
        "```"
      ]
    },
    {
      "cell_type": "markdown",
      "metadata": {
        "id": "j5B7tvshjsgs",
        "colab_type": "text"
      },
      "source": [
        "### Code From Elsewhere"
      ]
    },
    {
      "cell_type": "code",
      "metadata": {
        "id": "rbHIhd-POfaA",
        "colab_type": "code",
        "colab": {}
      },
      "source": [
        "raise ExecutionStop(\"Stop Here\")"
      ],
      "execution_count": 0,
      "outputs": []
    },
    {
      "cell_type": "code",
      "metadata": {
        "id": "gpTRsZHmzZcA",
        "colab_type": "code",
        "colab": {}
      },
      "source": [
        "!nvidia-smi -i 0 -q -d MEMORY,UTILIZATION,POWER,CLOCK,COMPUTE"
      ],
      "execution_count": 0,
      "outputs": []
    },
    {
      "cell_type": "code",
      "metadata": {
        "id": "_yHN7478zx5s",
        "colab_type": "code",
        "colab": {}
      },
      "source": [
        "%%bash\n",
        "## Convert notebook to HTML or PDF for printing\n",
        "\n",
        "### Clear All Output & Save Before Doing This ###\n",
        "\n",
        "apt-get install texlive texlive-xetex texlive-latex-extra mandoc > /dev/null\n",
        "pip install pypandoc\n",
        "# jupyter nbconvert --to HTML /content/gdrive/My\\ Drive/Colab/bertqa/BERTjoint_yes_no/BERTjoint\\ yes\\ no2.ipynb\n",
        "jupyter nbconvert --to HTML /content/gdrive/My\\ Drive/bertqa/BERTjoint_yes_no/BERTjoint\\ yes\\ no2.1.ipynb"
      ],
      "execution_count": 0,
      "outputs": []
    },
    {
      "cell_type": "markdown",
      "metadata": {
        "id": "Vk7GFxxMNKej",
        "colab_type": "text"
      },
      "source": [
        "# ============ Notes / Eratta ============"
      ]
    },
    {
      "cell_type": "markdown",
      "metadata": {
        "id": "8FYZK2heX5zC",
        "colab_type": "text"
      },
      "source": [
        ""
      ]
    }
  ]
}